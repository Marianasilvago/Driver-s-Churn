{
 "cells": [
  {
   "cell_type": "markdown",
   "metadata": {},
   "source": [
    "# Clustering"
   ]
  },
  {
   "cell_type": "markdown",
   "metadata": {},
   "source": [
    "## Loading Data"
   ]
  },
  {
   "cell_type": "code",
   "execution_count": 1,
   "metadata": {},
   "outputs": [
    {
     "name": "stderr",
     "output_type": "stream",
     "text": [
      "C:\\Users\\albab.ahmad\\AppData\\Local\\Continuum\\anaconda3\\lib\\site-packages\\statsmodels\\tools\\_testing.py:19: FutureWarning: pandas.util.testing is deprecated. Use the functions in the public API at pandas.testing instead.\n",
      "  import pandas.util.testing as tm\n"
     ]
    }
   ],
   "source": [
    "import pandas as pd\n",
    "import numpy as np\n",
    "from sklearn.cluster import KMeans\n",
    "from sklearn import metrics \n",
    "import matplotlib.pyplot as plt\n",
    "import seaborn as sns\n",
    "sns.set() \n",
    "%matplotlib inline "
   ]
  },
  {
   "cell_type": "code",
   "execution_count": 2,
   "metadata": {},
   "outputs": [],
   "source": [
    "#write code here\n",
    "data = pd.read_csv('segmentation_data.csv')\n",
    "df=data.copy()"
   ]
  },
  {
   "cell_type": "markdown",
   "metadata": {},
   "source": [
    "**Task 2:** Get the shape of data"
   ]
  },
  {
   "cell_type": "code",
   "execution_count": 3,
   "metadata": {},
   "outputs": [
    {
     "data": {
      "text/plain": [
       "(154352, 7)"
      ]
     },
     "execution_count": 3,
     "metadata": {},
     "output_type": "execute_result"
    }
   ],
   "source": [
    "#write code here\n",
    "df.shape"
   ]
  },
  {
   "cell_type": "markdown",
   "metadata": {},
   "source": [
    "**Task 3:** Display first five rows"
   ]
  },
  {
   "cell_type": "code",
   "execution_count": 4,
   "metadata": {},
   "outputs": [
    {
     "data": {
      "text/html": [
       "<div>\n",
       "<style scoped>\n",
       "    .dataframe tbody tr th:only-of-type {\n",
       "        vertical-align: middle;\n",
       "    }\n",
       "\n",
       "    .dataframe tbody tr th {\n",
       "        vertical-align: top;\n",
       "    }\n",
       "\n",
       "    .dataframe thead th {\n",
       "        text-align: right;\n",
       "    }\n",
       "</style>\n",
       "<table border=\"1\" class=\"dataframe\">\n",
       "  <thead>\n",
       "    <tr style=\"text-align: right;\">\n",
       "      <th></th>\n",
       "      <th>driver_id</th>\n",
       "      <th>ride_distance</th>\n",
       "      <th>ride_duration</th>\n",
       "      <th>ride_fare</th>\n",
       "      <th>ride_id</th>\n",
       "      <th>month_</th>\n",
       "      <th>week_number</th>\n",
       "    </tr>\n",
       "  </thead>\n",
       "  <tbody>\n",
       "    <tr>\n",
       "      <th>0</th>\n",
       "      <td>a84478867f4a6fb6450da1cb47458308</td>\n",
       "      <td>3463</td>\n",
       "      <td>566</td>\n",
       "      <td>9.204575</td>\n",
       "      <td>fdc13e77c91273c7f9d40dbf561114c2</td>\n",
       "      <td>5</td>\n",
       "      <td>20</td>\n",
       "    </tr>\n",
       "    <tr>\n",
       "      <th>1</th>\n",
       "      <td>15e0ade28a7d24026b2fe91ef528ddf5</td>\n",
       "      <td>1854</td>\n",
       "      <td>576</td>\n",
       "      <td>7.054823</td>\n",
       "      <td>fdc189c49d4c311ac5b19beece9766d4</td>\n",
       "      <td>4</td>\n",
       "      <td>17</td>\n",
       "    </tr>\n",
       "    <tr>\n",
       "      <th>2</th>\n",
       "      <td>72ca99bb6667024a23e1f68904b06fd0</td>\n",
       "      <td>2982</td>\n",
       "      <td>562</td>\n",
       "      <td>7.860864</td>\n",
       "      <td>fdc23c532dd9d259db81eb8ecb8b2c91</td>\n",
       "      <td>4</td>\n",
       "      <td>18</td>\n",
       "    </tr>\n",
       "    <tr>\n",
       "      <th>3</th>\n",
       "      <td>5cff9e4588a1d8b4b0fd703c4720421b</td>\n",
       "      <td>4102</td>\n",
       "      <td>797</td>\n",
       "      <td>9.541189</td>\n",
       "      <td>fdc33e167071cfcb18751a6bf0965b56</td>\n",
       "      <td>6</td>\n",
       "      <td>26</td>\n",
       "    </tr>\n",
       "    <tr>\n",
       "      <th>4</th>\n",
       "      <td>a3c39ee40d7bb0ab8e49efc44cb6735c</td>\n",
       "      <td>19063</td>\n",
       "      <td>1119</td>\n",
       "      <td>21.331953</td>\n",
       "      <td>fdc34de09b428ae239b12d7964957498</td>\n",
       "      <td>6</td>\n",
       "      <td>24</td>\n",
       "    </tr>\n",
       "  </tbody>\n",
       "</table>\n",
       "</div>"
      ],
      "text/plain": [
       "                          driver_id  ride_distance  ride_duration  ride_fare  \\\n",
       "0  a84478867f4a6fb6450da1cb47458308           3463            566   9.204575   \n",
       "1  15e0ade28a7d24026b2fe91ef528ddf5           1854            576   7.054823   \n",
       "2  72ca99bb6667024a23e1f68904b06fd0           2982            562   7.860864   \n",
       "3  5cff9e4588a1d8b4b0fd703c4720421b           4102            797   9.541189   \n",
       "4  a3c39ee40d7bb0ab8e49efc44cb6735c          19063           1119  21.331953   \n",
       "\n",
       "                            ride_id  month_  week_number  \n",
       "0  fdc13e77c91273c7f9d40dbf561114c2       5           20  \n",
       "1  fdc189c49d4c311ac5b19beece9766d4       4           17  \n",
       "2  fdc23c532dd9d259db81eb8ecb8b2c91       4           18  \n",
       "3  fdc33e167071cfcb18751a6bf0965b56       6           26  \n",
       "4  fdc34de09b428ae239b12d7964957498       6           24  "
      ]
     },
     "execution_count": 4,
     "metadata": {},
     "output_type": "execute_result"
    }
   ],
   "source": [
    "#write code here\n",
    "df.head()"
   ]
  },
  {
   "cell_type": "markdown",
   "metadata": {},
   "source": [
    "**Task 4:** Display data types of Data"
   ]
  },
  {
   "cell_type": "code",
   "execution_count": 5,
   "metadata": {},
   "outputs": [
    {
     "data": {
      "text/plain": [
       "driver_id         object\n",
       "ride_distance      int64\n",
       "ride_duration      int64\n",
       "ride_fare        float64\n",
       "ride_id           object\n",
       "month_             int64\n",
       "week_number        int64\n",
       "dtype: object"
      ]
     },
     "execution_count": 5,
     "metadata": {},
     "output_type": "execute_result"
    }
   ],
   "source": [
    "#write code here\n",
    "df.dtypes"
   ]
  },
  {
   "cell_type": "markdown",
   "metadata": {},
   "source": [
    "**Task 5:** Check missing values"
   ]
  },
  {
   "cell_type": "code",
   "execution_count": 6,
   "metadata": {},
   "outputs": [
    {
     "data": {
      "text/plain": [
       "driver_id        0\n",
       "ride_distance    0\n",
       "ride_duration    0\n",
       "ride_fare        0\n",
       "ride_id          0\n",
       "month_           0\n",
       "week_number      0\n",
       "dtype: int64"
      ]
     },
     "execution_count": 6,
     "metadata": {},
     "output_type": "execute_result"
    }
   ],
   "source": [
    "#write code here\n",
    "df.isnull().sum()"
   ]
  },
  {
   "cell_type": "markdown",
   "metadata": {},
   "source": [
    "**Task 6:** Check the statistics"
   ]
  },
  {
   "cell_type": "code",
   "execution_count": 7,
   "metadata": {},
   "outputs": [
    {
     "data": {
      "text/html": [
       "<div>\n",
       "<style scoped>\n",
       "    .dataframe tbody tr th:only-of-type {\n",
       "        vertical-align: middle;\n",
       "    }\n",
       "\n",
       "    .dataframe tbody tr th {\n",
       "        vertical-align: top;\n",
       "    }\n",
       "\n",
       "    .dataframe thead th {\n",
       "        text-align: right;\n",
       "    }\n",
       "</style>\n",
       "<table border=\"1\" class=\"dataframe\">\n",
       "  <thead>\n",
       "    <tr style=\"text-align: right;\">\n",
       "      <th></th>\n",
       "      <th>ride_distance</th>\n",
       "      <th>ride_duration</th>\n",
       "      <th>ride_fare</th>\n",
       "      <th>month_</th>\n",
       "      <th>week_number</th>\n",
       "    </tr>\n",
       "  </thead>\n",
       "  <tbody>\n",
       "    <tr>\n",
       "      <th>count</th>\n",
       "      <td>154352.000000</td>\n",
       "      <td>154352.000000</td>\n",
       "      <td>154352.000000</td>\n",
       "      <td>154352.000000</td>\n",
       "      <td>154352.000000</td>\n",
       "    </tr>\n",
       "    <tr>\n",
       "      <th>mean</th>\n",
       "      <td>6910.251833</td>\n",
       "      <td>859.217069</td>\n",
       "      <td>11.837892</td>\n",
       "      <td>5.196356</td>\n",
       "      <td>21.571279</td>\n",
       "    </tr>\n",
       "    <tr>\n",
       "      <th>std</th>\n",
       "      <td>8920.337138</td>\n",
       "      <td>571.856311</td>\n",
       "      <td>8.040407</td>\n",
       "      <td>0.755750</td>\n",
       "      <td>3.224802</td>\n",
       "    </tr>\n",
       "    <tr>\n",
       "      <th>min</th>\n",
       "      <td>-2.000000</td>\n",
       "      <td>2.000000</td>\n",
       "      <td>5.000000</td>\n",
       "      <td>3.000000</td>\n",
       "      <td>14.000000</td>\n",
       "    </tr>\n",
       "    <tr>\n",
       "      <th>25%</th>\n",
       "      <td>2448.000000</td>\n",
       "      <td>491.000000</td>\n",
       "      <td>7.395515</td>\n",
       "      <td>5.000000</td>\n",
       "      <td>19.000000</td>\n",
       "    </tr>\n",
       "    <tr>\n",
       "      <th>50%</th>\n",
       "      <td>3992.000000</td>\n",
       "      <td>726.000000</td>\n",
       "      <td>9.401846</td>\n",
       "      <td>5.000000</td>\n",
       "      <td>22.000000</td>\n",
       "    </tr>\n",
       "    <tr>\n",
       "      <th>75%</th>\n",
       "      <td>7104.250000</td>\n",
       "      <td>1070.000000</td>\n",
       "      <td>12.836062</td>\n",
       "      <td>6.000000</td>\n",
       "      <td>24.000000</td>\n",
       "    </tr>\n",
       "    <tr>\n",
       "      <th>max</th>\n",
       "      <td>724679.000000</td>\n",
       "      <td>28204.000000</td>\n",
       "      <td>400.000000</td>\n",
       "      <td>6.000000</td>\n",
       "      <td>27.000000</td>\n",
       "    </tr>\n",
       "  </tbody>\n",
       "</table>\n",
       "</div>"
      ],
      "text/plain": [
       "       ride_distance  ride_duration      ride_fare         month_  \\\n",
       "count  154352.000000  154352.000000  154352.000000  154352.000000   \n",
       "mean     6910.251833     859.217069      11.837892       5.196356   \n",
       "std      8920.337138     571.856311       8.040407       0.755750   \n",
       "min        -2.000000       2.000000       5.000000       3.000000   \n",
       "25%      2448.000000     491.000000       7.395515       5.000000   \n",
       "50%      3992.000000     726.000000       9.401846       5.000000   \n",
       "75%      7104.250000    1070.000000      12.836062       6.000000   \n",
       "max    724679.000000   28204.000000     400.000000       6.000000   \n",
       "\n",
       "         week_number  \n",
       "count  154352.000000  \n",
       "mean       21.571279  \n",
       "std         3.224802  \n",
       "min        14.000000  \n",
       "25%        19.000000  \n",
       "50%        22.000000  \n",
       "75%        24.000000  \n",
       "max        27.000000  "
      ]
     },
     "execution_count": 7,
     "metadata": {},
     "output_type": "execute_result"
    }
   ],
   "source": [
    "#write code here\n",
    "df.describe()"
   ]
  },
  {
   "cell_type": "markdown",
   "metadata": {},
   "source": [
    "**Task 7:** Remove **driver_id** and **ride_id**"
   ]
  },
  {
   "cell_type": "code",
   "execution_count": 8,
   "metadata": {},
   "outputs": [],
   "source": [
    "X=df.drop(['driver_id', 'ride_id','month_', 'week_number'],axis=1)\n",
    "#X = X.drop('ride_id', axis = 1)"
   ]
  },
  {
   "cell_type": "code",
   "execution_count": 9,
   "metadata": {},
   "outputs": [
    {
     "data": {
      "text/html": [
       "<div>\n",
       "<style scoped>\n",
       "    .dataframe tbody tr th:only-of-type {\n",
       "        vertical-align: middle;\n",
       "    }\n",
       "\n",
       "    .dataframe tbody tr th {\n",
       "        vertical-align: top;\n",
       "    }\n",
       "\n",
       "    .dataframe thead th {\n",
       "        text-align: right;\n",
       "    }\n",
       "</style>\n",
       "<table border=\"1\" class=\"dataframe\">\n",
       "  <thead>\n",
       "    <tr style=\"text-align: right;\">\n",
       "      <th></th>\n",
       "      <th>ride_distance</th>\n",
       "      <th>ride_duration</th>\n",
       "      <th>ride_fare</th>\n",
       "    </tr>\n",
       "  </thead>\n",
       "  <tbody>\n",
       "    <tr>\n",
       "      <th>0</th>\n",
       "      <td>3463</td>\n",
       "      <td>566</td>\n",
       "      <td>9.204575</td>\n",
       "    </tr>\n",
       "    <tr>\n",
       "      <th>1</th>\n",
       "      <td>1854</td>\n",
       "      <td>576</td>\n",
       "      <td>7.054823</td>\n",
       "    </tr>\n",
       "    <tr>\n",
       "      <th>2</th>\n",
       "      <td>2982</td>\n",
       "      <td>562</td>\n",
       "      <td>7.860864</td>\n",
       "    </tr>\n",
       "    <tr>\n",
       "      <th>3</th>\n",
       "      <td>4102</td>\n",
       "      <td>797</td>\n",
       "      <td>9.541189</td>\n",
       "    </tr>\n",
       "    <tr>\n",
       "      <th>4</th>\n",
       "      <td>19063</td>\n",
       "      <td>1119</td>\n",
       "      <td>21.331953</td>\n",
       "    </tr>\n",
       "  </tbody>\n",
       "</table>\n",
       "</div>"
      ],
      "text/plain": [
       "   ride_distance  ride_duration  ride_fare\n",
       "0           3463            566   9.204575\n",
       "1           1854            576   7.054823\n",
       "2           2982            562   7.860864\n",
       "3           4102            797   9.541189\n",
       "4          19063           1119  21.331953"
      ]
     },
     "execution_count": 9,
     "metadata": {},
     "output_type": "execute_result"
    }
   ],
   "source": [
    "X.head()"
   ]
  },
  {
   "cell_type": "markdown",
   "metadata": {},
   "source": [
    "# KMeans"
   ]
  },
  {
   "cell_type": "markdown",
   "metadata": {},
   "source": [
    "K-means clustering is a type of unsupervised learning, which is used when you have unlabeled data (i.e., data without defined categories or groups). The goal of this algorithm is to find groups in the data, with the number of groups represented by the variable K. The algorithm works iteratively to assign each data point to one of K groups based on the features that are provided. Data points are clustered based on feature similarity. The results of the K-means clustering algorithm are:\n",
    "<br><br>\n",
    "<li>The centroids of the K clusters, which can be used to label new data</li>\n",
    "<li>Labels for the training data (each data point is assigned to a single cluster)</li><br>\n",
    "Rather than defining groups before looking at the data, clustering allows you to find and analyze the groups that have formed organically. The \"Choosing K\" section below describes how the number of groups can be determined.  \n",
    "\n",
    "Each centroid of a cluster is a collection of feature values which define the resulting groups. Examining the centroid feature weights can be used to qualitatively interpret what kind of group each cluster represents. "
   ]
  },
  {
   "cell_type": "code",
   "execution_count": 10,
   "metadata": {},
   "outputs": [
    {
     "data": {
      "text/plain": [
       "KMeans(algorithm='auto', copy_x=True, init='k-means++', max_iter=300,\n",
       "       n_clusters=5, n_init=10, n_jobs=None, precompute_distances='auto',\n",
       "       random_state=0, tol=0.0001, verbose=0)"
      ]
     },
     "execution_count": 10,
     "metadata": {},
     "output_type": "execute_result"
    }
   ],
   "source": [
    "kmeans = KMeans(n_clusters=5, random_state=0)\n",
    "kmeans.fit(X)"
   ]
  },
  {
   "cell_type": "markdown",
   "metadata": {},
   "source": [
    "Kmean.fit command runs the Kmean algorithm on the provided dataset."
   ]
  },
  {
   "cell_type": "markdown",
   "metadata": {},
   "source": [
    "Now lets make a copy of df in a new variable ***pred***.\n",
    "To get to know that which observation belongs to which cluster, there is an attribute ***labels_***. This will return the list of labels and assign it to the new column ***kmean1***"
   ]
  },
  {
   "cell_type": "code",
   "execution_count": 11,
   "metadata": {},
   "outputs": [
    {
     "data": {
      "text/plain": [
       "array([1, 1, 1, ..., 1, 1, 4])"
      ]
     },
     "execution_count": 11,
     "metadata": {},
     "output_type": "execute_result"
    }
   ],
   "source": [
    "kmeans.labels_"
   ]
  },
  {
   "cell_type": "code",
   "execution_count": 12,
   "metadata": {},
   "outputs": [
    {
     "data": {
      "text/html": [
       "<div>\n",
       "<style scoped>\n",
       "    .dataframe tbody tr th:only-of-type {\n",
       "        vertical-align: middle;\n",
       "    }\n",
       "\n",
       "    .dataframe tbody tr th {\n",
       "        vertical-align: top;\n",
       "    }\n",
       "\n",
       "    .dataframe thead th {\n",
       "        text-align: right;\n",
       "    }\n",
       "</style>\n",
       "<table border=\"1\" class=\"dataframe\">\n",
       "  <thead>\n",
       "    <tr style=\"text-align: right;\">\n",
       "      <th></th>\n",
       "      <th>ride_distance</th>\n",
       "      <th>ride_duration</th>\n",
       "      <th>ride_fare</th>\n",
       "      <th>kmean1</th>\n",
       "    </tr>\n",
       "  </thead>\n",
       "  <tbody>\n",
       "    <tr>\n",
       "      <th>0</th>\n",
       "      <td>3463</td>\n",
       "      <td>566</td>\n",
       "      <td>9.204575</td>\n",
       "      <td>1</td>\n",
       "    </tr>\n",
       "    <tr>\n",
       "      <th>1</th>\n",
       "      <td>1854</td>\n",
       "      <td>576</td>\n",
       "      <td>7.054823</td>\n",
       "      <td>1</td>\n",
       "    </tr>\n",
       "    <tr>\n",
       "      <th>2</th>\n",
       "      <td>2982</td>\n",
       "      <td>562</td>\n",
       "      <td>7.860864</td>\n",
       "      <td>1</td>\n",
       "    </tr>\n",
       "    <tr>\n",
       "      <th>3</th>\n",
       "      <td>4102</td>\n",
       "      <td>797</td>\n",
       "      <td>9.541189</td>\n",
       "      <td>1</td>\n",
       "    </tr>\n",
       "    <tr>\n",
       "      <th>4</th>\n",
       "      <td>19063</td>\n",
       "      <td>1119</td>\n",
       "      <td>21.331953</td>\n",
       "      <td>4</td>\n",
       "    </tr>\n",
       "  </tbody>\n",
       "</table>\n",
       "</div>"
      ],
      "text/plain": [
       "   ride_distance  ride_duration  ride_fare  kmean1\n",
       "0           3463            566   9.204575       1\n",
       "1           1854            576   7.054823       1\n",
       "2           2982            562   7.860864       1\n",
       "3           4102            797   9.541189       1\n",
       "4          19063           1119  21.331953       4"
      ]
     },
     "execution_count": 12,
     "metadata": {},
     "output_type": "execute_result"
    }
   ],
   "source": [
    "pred = X.copy()\n",
    "pred['kmean1'] = kmeans.labels_\n",
    "pred.head()"
   ]
  },
  {
   "cell_type": "markdown",
   "metadata": {},
   "source": [
    "The **kmean1** column shows the lables of the Kmean algorithm. For example row index 0 belongs to cluster 0 and row 1 belongs to cluster 1 and row 2 belongs to cluster 4 and so on"
   ]
  },
  {
   "cell_type": "code",
   "execution_count": 13,
   "metadata": {},
   "outputs": [
    {
     "data": {
      "text/plain": [
       "1    108329\n",
       "0     29678\n",
       "4     14185\n",
       "2      2159\n",
       "3         1\n",
       "Name: kmean1, dtype: int64"
      ]
     },
     "execution_count": 13,
     "metadata": {},
     "output_type": "execute_result"
    }
   ],
   "source": [
    "pred['kmean1'].value_counts()"
   ]
  },
  {
   "cell_type": "markdown",
   "metadata": {},
   "source": [
    "The above output shows the number of obervations in each cluster"
   ]
  },
  {
   "cell_type": "markdown",
   "metadata": {},
   "source": [
    "# Scaling"
   ]
  },
  {
   "cell_type": "markdown",
   "metadata": {},
   "source": [
    "#### Why need scaling?\n",
    "<br>Since the range of values of raw data varies widely, in some machine learning algorithms, objective functions will not work properly without normalization."
   ]
  },
  {
   "cell_type": "markdown",
   "metadata": {},
   "source": [
    "### Scaling using min max"
   ]
  },
  {
   "cell_type": "markdown",
   "metadata": {},
   "source": [
    "Also known as min-max scaling or min-max normalization, is the simplest method and consists in rescaling the range of features to scale the range in [0, 1]. Selecting the target range depends on the nature of the data. The general formula is given as:\n",
    "<br>\n",
    "\n",
    "*Formula*\n",
    "<br>zi=(xi−min(x))/(max(x)−min(x))"
   ]
  },
  {
   "cell_type": "markdown",
   "metadata": {},
   "source": [
    "### Scaling using MinMaxScaler function"
   ]
  },
  {
   "cell_type": "code",
   "execution_count": 14,
   "metadata": {},
   "outputs": [],
   "source": [
    "from sklearn.preprocessing import MinMaxScaler"
   ]
  },
  {
   "cell_type": "code",
   "execution_count": 15,
   "metadata": {},
   "outputs": [],
   "source": [
    "scaler = MinMaxScaler() "
   ]
  },
  {
   "cell_type": "code",
   "execution_count": 16,
   "metadata": {},
   "outputs": [],
   "source": [
    "new=scaler.fit_transform(X)"
   ]
  },
  {
   "cell_type": "code",
   "execution_count": 17,
   "metadata": {},
   "outputs": [
    {
     "data": {
      "text/plain": [
       "numpy.ndarray"
      ]
     },
     "execution_count": 17,
     "metadata": {},
     "output_type": "execute_result"
    }
   ],
   "source": [
    "type(new)"
   ]
  },
  {
   "cell_type": "code",
   "execution_count": 18,
   "metadata": {
    "scrolled": true
   },
   "outputs": [
    {
     "data": {
      "text/plain": [
       "array([[0.00478141, 0.01999858, 0.01064449],\n",
       "       [0.00256113, 0.02035317, 0.00520208],\n",
       "       [0.00411767, 0.01985675, 0.00724269],\n",
       "       ...,\n",
       "       [0.00321521, 0.02414722, 0.0071735 ],\n",
       "       [0.00357675, 0.02060138, 0.00653355],\n",
       "       [0.02810616, 0.04648606, 0.0453748 ]])"
      ]
     },
     "execution_count": 18,
     "metadata": {},
     "output_type": "execute_result"
    }
   ],
   "source": [
    "new"
   ]
  },
  {
   "cell_type": "markdown",
   "metadata": {},
   "source": [
    "In the above step the scaling is done by the built in min max scaler function"
   ]
  },
  {
   "cell_type": "code",
   "execution_count": 19,
   "metadata": {},
   "outputs": [
    {
     "data": {
      "text/plain": [
       "Index(['ride_distance', 'ride_duration', 'ride_fare'], dtype='object')"
      ]
     },
     "execution_count": 19,
     "metadata": {},
     "output_type": "execute_result"
    }
   ],
   "source": [
    "X.columns"
   ]
  },
  {
   "cell_type": "code",
   "execution_count": 22,
   "metadata": {},
   "outputs": [],
   "source": [
    "col_names=['ride_distance', 'ride_duration', 'ride_fare']"
   ]
  },
  {
   "cell_type": "code",
   "execution_count": 23,
   "metadata": {},
   "outputs": [],
   "source": [
    "scaled=pd.DataFrame(columns=col_names,data=new)"
   ]
  },
  {
   "cell_type": "code",
   "execution_count": 24,
   "metadata": {},
   "outputs": [
    {
     "data": {
      "text/html": [
       "<div>\n",
       "<style scoped>\n",
       "    .dataframe tbody tr th:only-of-type {\n",
       "        vertical-align: middle;\n",
       "    }\n",
       "\n",
       "    .dataframe tbody tr th {\n",
       "        vertical-align: top;\n",
       "    }\n",
       "\n",
       "    .dataframe thead th {\n",
       "        text-align: right;\n",
       "    }\n",
       "</style>\n",
       "<table border=\"1\" class=\"dataframe\">\n",
       "  <thead>\n",
       "    <tr style=\"text-align: right;\">\n",
       "      <th></th>\n",
       "      <th>ride_distance</th>\n",
       "      <th>ride_duration</th>\n",
       "      <th>ride_fare</th>\n",
       "    </tr>\n",
       "  </thead>\n",
       "  <tbody>\n",
       "    <tr>\n",
       "      <th>0</th>\n",
       "      <td>0.004781</td>\n",
       "      <td>0.019999</td>\n",
       "      <td>0.010644</td>\n",
       "    </tr>\n",
       "    <tr>\n",
       "      <th>1</th>\n",
       "      <td>0.002561</td>\n",
       "      <td>0.020353</td>\n",
       "      <td>0.005202</td>\n",
       "    </tr>\n",
       "    <tr>\n",
       "      <th>2</th>\n",
       "      <td>0.004118</td>\n",
       "      <td>0.019857</td>\n",
       "      <td>0.007243</td>\n",
       "    </tr>\n",
       "    <tr>\n",
       "      <th>3</th>\n",
       "      <td>0.005663</td>\n",
       "      <td>0.028189</td>\n",
       "      <td>0.011497</td>\n",
       "    </tr>\n",
       "    <tr>\n",
       "      <th>4</th>\n",
       "      <td>0.026308</td>\n",
       "      <td>0.039607</td>\n",
       "      <td>0.041347</td>\n",
       "    </tr>\n",
       "  </tbody>\n",
       "</table>\n",
       "</div>"
      ],
      "text/plain": [
       "   ride_distance  ride_duration  ride_fare\n",
       "0       0.004781       0.019999   0.010644\n",
       "1       0.002561       0.020353   0.005202\n",
       "2       0.004118       0.019857   0.007243\n",
       "3       0.005663       0.028189   0.011497\n",
       "4       0.026308       0.039607   0.041347"
      ]
     },
     "execution_count": 24,
     "metadata": {},
     "output_type": "execute_result"
    }
   ],
   "source": [
    "scaled.head()"
   ]
  },
  {
   "cell_type": "markdown",
   "metadata": {},
   "source": [
    "Now we will use the scaled variables and see how our clusters differ"
   ]
  },
  {
   "cell_type": "markdown",
   "metadata": {},
   "source": [
    "**Task 8:** Apply ***fit*** on **scaled** dataset and put the labels in the predicted data.\n",
    "\n",
    "Also display value count"
   ]
  },
  {
   "cell_type": "code",
   "execution_count": 25,
   "metadata": {},
   "outputs": [
    {
     "data": {
      "text/html": [
       "<div>\n",
       "<style scoped>\n",
       "    .dataframe tbody tr th:only-of-type {\n",
       "        vertical-align: middle;\n",
       "    }\n",
       "\n",
       "    .dataframe tbody tr th {\n",
       "        vertical-align: top;\n",
       "    }\n",
       "\n",
       "    .dataframe thead th {\n",
       "        text-align: right;\n",
       "    }\n",
       "</style>\n",
       "<table border=\"1\" class=\"dataframe\">\n",
       "  <thead>\n",
       "    <tr style=\"text-align: right;\">\n",
       "      <th></th>\n",
       "      <th>ride_distance</th>\n",
       "      <th>ride_duration</th>\n",
       "      <th>ride_fare</th>\n",
       "      <th>kmean1</th>\n",
       "      <th>kmean2</th>\n",
       "    </tr>\n",
       "  </thead>\n",
       "  <tbody>\n",
       "    <tr>\n",
       "      <th>0</th>\n",
       "      <td>3463</td>\n",
       "      <td>566</td>\n",
       "      <td>9.204575</td>\n",
       "      <td>1</td>\n",
       "      <td>0</td>\n",
       "    </tr>\n",
       "    <tr>\n",
       "      <th>1</th>\n",
       "      <td>1854</td>\n",
       "      <td>576</td>\n",
       "      <td>7.054823</td>\n",
       "      <td>1</td>\n",
       "      <td>0</td>\n",
       "    </tr>\n",
       "    <tr>\n",
       "      <th>2</th>\n",
       "      <td>2982</td>\n",
       "      <td>562</td>\n",
       "      <td>7.860864</td>\n",
       "      <td>1</td>\n",
       "      <td>0</td>\n",
       "    </tr>\n",
       "    <tr>\n",
       "      <th>3</th>\n",
       "      <td>4102</td>\n",
       "      <td>797</td>\n",
       "      <td>9.541189</td>\n",
       "      <td>1</td>\n",
       "      <td>4</td>\n",
       "    </tr>\n",
       "    <tr>\n",
       "      <th>4</th>\n",
       "      <td>19063</td>\n",
       "      <td>1119</td>\n",
       "      <td>21.331953</td>\n",
       "      <td>4</td>\n",
       "      <td>2</td>\n",
       "    </tr>\n",
       "  </tbody>\n",
       "</table>\n",
       "</div>"
      ],
      "text/plain": [
       "   ride_distance  ride_duration  ride_fare  kmean1  kmean2\n",
       "0           3463            566   9.204575       1       0\n",
       "1           1854            576   7.054823       1       0\n",
       "2           2982            562   7.860864       1       0\n",
       "3           4102            797   9.541189       1       4\n",
       "4          19063           1119  21.331953       4       2"
      ]
     },
     "execution_count": 25,
     "metadata": {},
     "output_type": "execute_result"
    }
   ],
   "source": [
    "#Write code here\n",
    "kmean2 = KMeans(n_clusters=5, random_state=0)\n",
    "kmean2.fit(scaled)\n",
    "pred['kmean2'] = kmean2.labels_\n",
    "pred.head()"
   ]
  },
  {
   "cell_type": "code",
   "execution_count": 26,
   "metadata": {},
   "outputs": [
    {
     "data": {
      "text/plain": [
       "0    76691\n",
       "4    51522\n",
       "2    18227\n",
       "1     6384\n",
       "3     1528\n",
       "Name: kmean2, dtype: int64"
      ]
     },
     "execution_count": 26,
     "metadata": {},
     "output_type": "execute_result"
    }
   ],
   "source": [
    "#Write code here\n",
    "pred['kmean2'].value_counts()"
   ]
  },
  {
   "cell_type": "markdown",
   "metadata": {},
   "source": [
    "From the above output you can see that now the distribution of the clusters has changed"
   ]
  },
  {
   "cell_type": "markdown",
   "metadata": {},
   "source": [
    "## Choosing K"
   ]
  },
  {
   "cell_type": "markdown",
   "metadata": {},
   "source": [
    "### Elbow Analysis"
   ]
  },
  {
   "cell_type": "markdown",
   "metadata": {},
   "source": [
    "The Elbow method is a method of interpretation and validation of consistency within cluster analysis designed to help finding the appropriate number of clusters in a dataset."
   ]
  },
  {
   "cell_type": "markdown",
   "metadata": {},
   "source": [
    "### Working"
   ]
  },
  {
   "cell_type": "markdown",
   "metadata": {},
   "source": [
    "One method to validate the number of clusters is the elbow method. The idea of the elbow method is to run k-means clustering on the dataset for a range of values of k (say, k from 1 to 10 in the examples above), and for each value of k calculate the sum of squared errors (SSE).Then, plot a line chart of the SSE for each value of k. If the line chart looks like an arm, then the \"elbow\" on the arm is the value of k that is the best. The idea is that we want a small SSE, but that the SSE tends to decrease toward 0 as we increase k (the SSE is 0 when k is equal to the number of data points in the dataset, because then each data point is its own cluster, and there is no error between it and the center of its cluster). So our goal is to choose a small value of k that still has a low SSE, and the elbow usually represents where we start to have diminishing returns by increasing k"
   ]
  },
  {
   "cell_type": "code",
   "execution_count": 27,
   "metadata": {},
   "outputs": [],
   "source": [
    "cost = []\n",
    "for k in range(1, 15):\n",
    "    kmeanModel = KMeans(n_clusters=k, random_state=0).fit(scaled)\n",
    "    cost.append([k,kmeanModel.inertia_])"
   ]
  },
  {
   "cell_type": "code",
   "execution_count": 28,
   "metadata": {},
   "outputs": [
    {
     "data": {
      "text/plain": [
       "[[1, 150.80514477605936],\n",
       " [2, 68.77347044748178],\n",
       " [3, 43.62004770961426],\n",
       " [4, 30.34294785443759],\n",
       " [5, 25.038336005418362],\n",
       " [6, 21.21530682508077],\n",
       " [7, 18.676824430089283],\n",
       " [8, 16.530143377590164],\n",
       " [9, 14.483606640477545],\n",
       " [10, 13.106815325490524],\n",
       " [11, 11.917653421272831],\n",
       " [12, 10.848121484440895],\n",
       " [13, 9.933177261669043],\n",
       " [14, 9.06158444311344]]"
      ]
     },
     "execution_count": 28,
     "metadata": {},
     "output_type": "execute_result"
    }
   ],
   "source": [
    "cost"
   ]
  },
  {
   "cell_type": "code",
   "execution_count": 29,
   "metadata": {},
   "outputs": [
    {
     "data": {
      "image/png": "[encoded data removed]",
      "text/plain": [
       "<Figure size 1080x432 with 1 Axes>"
      ]
     },
     "metadata": {
      "needs_background": "light"
     },
     "output_type": "display_data"
    }
   ],
   "source": [
    "plt.figure(figsize=(15,6))\n",
    "sns.set_context('poster')\n",
    "plt.plot(pd.DataFrame(cost)[0], pd.DataFrame(cost)[1])\n",
    "plt.xlabel('k')\n",
    "plt.ylabel('Cost')\n",
    "plt.title('The Elbow Method showing the optimal k') \n",
    "plt.show()"
   ]
  },
  {
   "cell_type": "markdown",
   "metadata": {},
   "source": [
    "From the above graph we can see that the elbow is formed when the input was 3 clusters.\n",
    "<br>But before proceding, let us check the **Silhouette Score**"
   ]
  },
  {
   "cell_type": "markdown",
   "metadata": {},
   "source": [
    "### Silhouette Score"
   ]
  },
  {
   "cell_type": "markdown",
   "metadata": {},
   "source": [
    "The Silhouette Coefficient is calculated using the mean intra-cluster distance (a) and the mean nearest-cluster distance (b) for each sample. The Silhouette Coefficient for a sample is (b - a) / max(a, b). To clarify, b is the distance between a sample and the nearest cluster that the sample is not a part of. Note that Silhouette Coefficient is only defined if number of labels is 2 <= n_labels <= n_samples - 1."
   ]
  },
  {
   "cell_type": "code",
   "execution_count": 30,
   "metadata": {},
   "outputs": [],
   "source": [
    "from sklearn.metrics import silhouette_score"
   ]
  },
  {
   "cell_type": "code",
   "execution_count": 32,
   "metadata": {},
   "outputs": [
    {
     "ename": "KeyboardInterrupt",
     "evalue": "",
     "output_type": "error",
     "traceback": [
      "\u001b[1;31m---------------------------------------------------------------------------\u001b[0m",
      "\u001b[1;31mKeyboardInterrupt\u001b[0m                         Traceback (most recent call last)",
      "\u001b[1;32m<ipython-input-32-f738cd9d0ad6>\u001b[0m in \u001b[0;36m<module>\u001b[1;34m\u001b[0m\n\u001b[0;32m      3\u001b[0m \u001b[1;32mfor\u001b[0m \u001b[0mk\u001b[0m \u001b[1;32min\u001b[0m \u001b[0mrange\u001b[0m\u001b[1;33m(\u001b[0m\u001b[1;36m2\u001b[0m\u001b[1;33m,\u001b[0m \u001b[1;36m5\u001b[0m\u001b[1;33m)\u001b[0m\u001b[1;33m:\u001b[0m\u001b[1;33m\u001b[0m\u001b[1;33m\u001b[0m\u001b[0m\n\u001b[0;32m      4\u001b[0m     \u001b[0mkmeans\u001b[0m \u001b[1;33m=\u001b[0m \u001b[0mKMeans\u001b[0m\u001b[1;33m(\u001b[0m\u001b[0mn_clusters\u001b[0m\u001b[1;33m=\u001b[0m\u001b[0mk\u001b[0m\u001b[1;33m,\u001b[0m \u001b[0mrandom_state\u001b[0m\u001b[1;33m=\u001b[0m\u001b[1;36m0\u001b[0m\u001b[1;33m)\u001b[0m\u001b[1;33m.\u001b[0m\u001b[0mfit\u001b[0m\u001b[1;33m(\u001b[0m\u001b[0mscaled\u001b[0m\u001b[1;33m)\u001b[0m\u001b[1;33m\u001b[0m\u001b[1;33m\u001b[0m\u001b[0m\n\u001b[1;32m----> 5\u001b[1;33m     \u001b[0ms_score\u001b[0m\u001b[1;33m.\u001b[0m\u001b[0mappend\u001b[0m\u001b[1;33m(\u001b[0m\u001b[1;33m[\u001b[0m\u001b[0mk\u001b[0m\u001b[1;33m,\u001b[0m \u001b[0msilhouette_score\u001b[0m\u001b[1;33m(\u001b[0m\u001b[0mscaled\u001b[0m\u001b[1;33m,\u001b[0m \u001b[0mkmeans\u001b[0m\u001b[1;33m.\u001b[0m\u001b[0mlabels_\u001b[0m\u001b[1;33m)\u001b[0m\u001b[1;33m]\u001b[0m\u001b[1;33m)\u001b[0m\u001b[1;33m\u001b[0m\u001b[1;33m\u001b[0m\u001b[0m\n\u001b[0m",
      "\u001b[1;32m~\\AppData\\Local\\Continuum\\anaconda3\\lib\\site-packages\\sklearn\\metrics\\cluster\\unsupervised.py\u001b[0m in \u001b[0;36msilhouette_score\u001b[1;34m(X, labels, metric, sample_size, random_state, **kwds)\u001b[0m\n\u001b[0;32m    115\u001b[0m         \u001b[1;32melse\u001b[0m\u001b[1;33m:\u001b[0m\u001b[1;33m\u001b[0m\u001b[1;33m\u001b[0m\u001b[0m\n\u001b[0;32m    116\u001b[0m             \u001b[0mX\u001b[0m\u001b[1;33m,\u001b[0m \u001b[0mlabels\u001b[0m \u001b[1;33m=\u001b[0m \u001b[0mX\u001b[0m\u001b[1;33m[\u001b[0m\u001b[0mindices\u001b[0m\u001b[1;33m]\u001b[0m\u001b[1;33m,\u001b[0m \u001b[0mlabels\u001b[0m\u001b[1;33m[\u001b[0m\u001b[0mindices\u001b[0m\u001b[1;33m]\u001b[0m\u001b[1;33m\u001b[0m\u001b[1;33m\u001b[0m\u001b[0m\n\u001b[1;32m--> 117\u001b[1;33m     \u001b[1;32mreturn\u001b[0m \u001b[0mnp\u001b[0m\u001b[1;33m.\u001b[0m\u001b[0mmean\u001b[0m\u001b[1;33m(\u001b[0m\u001b[0msilhouette_samples\u001b[0m\u001b[1;33m(\u001b[0m\u001b[0mX\u001b[0m\u001b[1;33m,\u001b[0m \u001b[0mlabels\u001b[0m\u001b[1;33m,\u001b[0m \u001b[0mmetric\u001b[0m\u001b[1;33m=\u001b[0m\u001b[0mmetric\u001b[0m\u001b[1;33m,\u001b[0m \u001b[1;33m**\u001b[0m\u001b[0mkwds\u001b[0m\u001b[1;33m)\u001b[0m\u001b[1;33m)\u001b[0m\u001b[1;33m\u001b[0m\u001b[1;33m\u001b[0m\u001b[0m\n\u001b[0m\u001b[0;32m    118\u001b[0m \u001b[1;33m\u001b[0m\u001b[0m\n\u001b[0;32m    119\u001b[0m \u001b[1;33m\u001b[0m\u001b[0m\n",
      "\u001b[1;32m~\\AppData\\Local\\Continuum\\anaconda3\\lib\\site-packages\\sklearn\\metrics\\cluster\\unsupervised.py\u001b[0m in \u001b[0;36msilhouette_samples\u001b[1;34m(X, labels, metric, **kwds)\u001b[0m\n\u001b[0;32m    221\u001b[0m                                     labels=labels, label_freqs=label_freqs)\n\u001b[0;32m    222\u001b[0m     results = zip(*pairwise_distances_chunked(X, reduce_func=reduce_func,\n\u001b[1;32m--> 223\u001b[1;33m                                               **kwds))\n\u001b[0m\u001b[0;32m    224\u001b[0m     \u001b[0mintra_clust_dists\u001b[0m\u001b[1;33m,\u001b[0m \u001b[0minter_clust_dists\u001b[0m \u001b[1;33m=\u001b[0m \u001b[0mresults\u001b[0m\u001b[1;33m\u001b[0m\u001b[1;33m\u001b[0m\u001b[0m\n\u001b[0;32m    225\u001b[0m     \u001b[0mintra_clust_dists\u001b[0m \u001b[1;33m=\u001b[0m \u001b[0mnp\u001b[0m\u001b[1;33m.\u001b[0m\u001b[0mconcatenate\u001b[0m\u001b[1;33m(\u001b[0m\u001b[0mintra_clust_dists\u001b[0m\u001b[1;33m)\u001b[0m\u001b[1;33m\u001b[0m\u001b[1;33m\u001b[0m\u001b[0m\n",
      "\u001b[1;32m~\\AppData\\Local\\Continuum\\anaconda3\\lib\\site-packages\\sklearn\\metrics\\pairwise.py\u001b[0m in \u001b[0;36mpairwise_distances_chunked\u001b[1;34m(X, Y, reduce_func, metric, n_jobs, working_memory, **kwds)\u001b[0m\n\u001b[0;32m   1456\u001b[0m             \u001b[0mchunk_size\u001b[0m \u001b[1;33m=\u001b[0m \u001b[0mD_chunk\u001b[0m\u001b[1;33m.\u001b[0m\u001b[0mshape\u001b[0m\u001b[1;33m[\u001b[0m\u001b[1;36m0\u001b[0m\u001b[1;33m]\u001b[0m\u001b[1;33m\u001b[0m\u001b[1;33m\u001b[0m\u001b[0m\n\u001b[0;32m   1457\u001b[0m             \u001b[0mD_chunk\u001b[0m \u001b[1;33m=\u001b[0m \u001b[0mreduce_func\u001b[0m\u001b[1;33m(\u001b[0m\u001b[0mD_chunk\u001b[0m\u001b[1;33m,\u001b[0m \u001b[0msl\u001b[0m\u001b[1;33m.\u001b[0m\u001b[0mstart\u001b[0m\u001b[1;33m)\u001b[0m\u001b[1;33m\u001b[0m\u001b[1;33m\u001b[0m\u001b[0m\n\u001b[1;32m-> 1458\u001b[1;33m             \u001b[0m_check_chunk_size\u001b[0m\u001b[1;33m(\u001b[0m\u001b[0mD_chunk\u001b[0m\u001b[1;33m,\u001b[0m \u001b[0mchunk_size\u001b[0m\u001b[1;33m)\u001b[0m\u001b[1;33m\u001b[0m\u001b[1;33m\u001b[0m\u001b[0m\n\u001b[0m\u001b[0;32m   1459\u001b[0m         \u001b[1;32myield\u001b[0m \u001b[0mD_chunk\u001b[0m\u001b[1;33m\u001b[0m\u001b[1;33m\u001b[0m\u001b[0m\n\u001b[0;32m   1460\u001b[0m \u001b[1;33m\u001b[0m\u001b[0m\n",
      "\u001b[1;32m~\\AppData\\Local\\Continuum\\anaconda3\\lib\\site-packages\\sklearn\\metrics\\pairwise.py\u001b[0m in \u001b[0;36m_check_chunk_size\u001b[1;34m(reduced, chunk_size)\u001b[0m\n\u001b[0;32m   1262\u001b[0m \u001b[1;33m\u001b[0m\u001b[0m\n\u001b[0;32m   1263\u001b[0m \u001b[1;33m\u001b[0m\u001b[0m\n\u001b[1;32m-> 1264\u001b[1;33m \u001b[1;32mdef\u001b[0m \u001b[0m_check_chunk_size\u001b[0m\u001b[1;33m(\u001b[0m\u001b[0mreduced\u001b[0m\u001b[1;33m,\u001b[0m \u001b[0mchunk_size\u001b[0m\u001b[1;33m)\u001b[0m\u001b[1;33m:\u001b[0m\u001b[1;33m\u001b[0m\u001b[1;33m\u001b[0m\u001b[0m\n\u001b[0m\u001b[0;32m   1265\u001b[0m     \"\"\"Checks chunk is a sequence of expected size or a tuple of same\n\u001b[0;32m   1266\u001b[0m     \"\"\"\n",
      "\u001b[1;31mKeyboardInterrupt\u001b[0m: "
     ]
    }
   ],
   "source": [
    "#add plot\n",
    "s_score = []\n",
    "for k in range(2, 5):\n",
    "    kmeans = KMeans(n_clusters=k, random_state=0).fit(scaled)\n",
    "    s_score.append([k, silhouette_score(scaled, kmeans.labels_)])"
   ]
  },
  {
   "cell_type": "code",
   "execution_count": null,
   "metadata": {},
   "outputs": [],
   "source": [
    "s_score"
   ]
  },
  {
   "cell_type": "code",
   "execution_count": null,
   "metadata": {},
   "outputs": [],
   "source": [
    "plt.figure(figsize=(15,6))\n",
    "sns.set_context('poster')\n",
    "plt.plot( pd.DataFrame(s_score)[0], pd.DataFrame(s_score)[1])\n",
    "plt.xlabel('clusters')\n",
    "plt.ylabel('score')\n",
    "plt.title('The silhouette score') \n",
    "plt.show()"
   ]
  },
  {
   "cell_type": "markdown",
   "metadata": {},
   "source": [
    "## Final clusters using K-Means"
   ]
  },
  {
   "cell_type": "markdown",
   "metadata": {},
   "source": [
    "After checking the **Elbow Score** and **Silhoute Score**, we can conclude that number of clusters/k should be 3."
   ]
  },
  {
   "cell_type": "markdown",
   "metadata": {},
   "source": [
    "**Task 9:** Apply kmeans algorithm with number of clusters = 3. Also assign values to the predicted data and check value count."
   ]
  },
  {
   "cell_type": "code",
   "execution_count": 33,
   "metadata": {
    "scrolled": true
   },
   "outputs": [
    {
     "data": {
      "text/plain": [
       "2    87827\n",
       "0    48733\n",
       "3    15405\n",
       "1     2387\n",
       "Name: kmean3, dtype: int64"
      ]
     },
     "execution_count": 33,
     "metadata": {},
     "output_type": "execute_result"
    }
   ],
   "source": [
    "#Write code here\n",
    "kmean3 = KMeans(n_clusters=4, random_state=0)\n",
    "kmean3.fit(scaled)\n",
    "pred['kmean3'] = kmean3.labels_\n",
    "pred['kmean3'].value_counts()"
   ]
  },
  {
   "cell_type": "code",
   "execution_count": 34,
   "metadata": {},
   "outputs": [
    {
     "data": {
      "text/html": [
       "<div>\n",
       "<style scoped>\n",
       "    .dataframe tbody tr th:only-of-type {\n",
       "        vertical-align: middle;\n",
       "    }\n",
       "\n",
       "    .dataframe tbody tr th {\n",
       "        vertical-align: top;\n",
       "    }\n",
       "\n",
       "    .dataframe thead th {\n",
       "        text-align: right;\n",
       "    }\n",
       "</style>\n",
       "<table border=\"1\" class=\"dataframe\">\n",
       "  <thead>\n",
       "    <tr style=\"text-align: right;\">\n",
       "      <th></th>\n",
       "      <th>ride_distance</th>\n",
       "      <th>ride_duration</th>\n",
       "      <th>ride_fare</th>\n",
       "      <th>kmean1</th>\n",
       "      <th>kmean2</th>\n",
       "      <th>kmean3</th>\n",
       "    </tr>\n",
       "  </thead>\n",
       "  <tbody>\n",
       "    <tr>\n",
       "      <th>6</th>\n",
       "      <td>15050</td>\n",
       "      <td>886</td>\n",
       "      <td>17.584361</td>\n",
       "      <td>0</td>\n",
       "      <td>4</td>\n",
       "      <td>0</td>\n",
       "    </tr>\n",
       "    <tr>\n",
       "      <th>7</th>\n",
       "      <td>3742</td>\n",
       "      <td>880</td>\n",
       "      <td>9.503942</td>\n",
       "      <td>1</td>\n",
       "      <td>4</td>\n",
       "      <td>0</td>\n",
       "    </tr>\n",
       "    <tr>\n",
       "      <th>10</th>\n",
       "      <td>8503</td>\n",
       "      <td>880</td>\n",
       "      <td>12.906035</td>\n",
       "      <td>0</td>\n",
       "      <td>4</td>\n",
       "      <td>0</td>\n",
       "    </tr>\n",
       "    <tr>\n",
       "      <th>11</th>\n",
       "      <td>6473</td>\n",
       "      <td>1284</td>\n",
       "      <td>13.995447</td>\n",
       "      <td>0</td>\n",
       "      <td>4</td>\n",
       "      <td>0</td>\n",
       "    </tr>\n",
       "    <tr>\n",
       "      <th>12</th>\n",
       "      <td>7684</td>\n",
       "      <td>1282</td>\n",
       "      <td>13.860798</td>\n",
       "      <td>0</td>\n",
       "      <td>4</td>\n",
       "      <td>0</td>\n",
       "    </tr>\n",
       "    <tr>\n",
       "      <th>16</th>\n",
       "      <td>3828</td>\n",
       "      <td>1110</td>\n",
       "      <td>10.445395</td>\n",
       "      <td>1</td>\n",
       "      <td>4</td>\n",
       "      <td>0</td>\n",
       "    </tr>\n",
       "    <tr>\n",
       "      <th>19</th>\n",
       "      <td>6459</td>\n",
       "      <td>872</td>\n",
       "      <td>11.445443</td>\n",
       "      <td>0</td>\n",
       "      <td>4</td>\n",
       "      <td>0</td>\n",
       "    </tr>\n",
       "    <tr>\n",
       "      <th>20</th>\n",
       "      <td>11471</td>\n",
       "      <td>1549</td>\n",
       "      <td>17.446896</td>\n",
       "      <td>0</td>\n",
       "      <td>2</td>\n",
       "      <td>0</td>\n",
       "    </tr>\n",
       "    <tr>\n",
       "      <th>24</th>\n",
       "      <td>16957</td>\n",
       "      <td>1128</td>\n",
       "      <td>19.827057</td>\n",
       "      <td>4</td>\n",
       "      <td>2</td>\n",
       "      <td>0</td>\n",
       "    </tr>\n",
       "    <tr>\n",
       "      <th>27</th>\n",
       "      <td>9968</td>\n",
       "      <td>926</td>\n",
       "      <td>14.172889</td>\n",
       "      <td>0</td>\n",
       "      <td>4</td>\n",
       "      <td>0</td>\n",
       "    </tr>\n",
       "  </tbody>\n",
       "</table>\n",
       "</div>"
      ],
      "text/plain": [
       "    ride_distance  ride_duration  ride_fare  kmean1  kmean2  kmean3\n",
       "6           15050            886  17.584361       0       4       0\n",
       "7            3742            880   9.503942       1       4       0\n",
       "10           8503            880  12.906035       0       4       0\n",
       "11           6473           1284  13.995447       0       4       0\n",
       "12           7684           1282  13.860798       0       4       0\n",
       "16           3828           1110  10.445395       1       4       0\n",
       "19           6459            872  11.445443       0       4       0\n",
       "20          11471           1549  17.446896       0       2       0\n",
       "24          16957           1128  19.827057       4       2       0\n",
       "27           9968            926  14.172889       0       4       0"
      ]
     },
     "execution_count": 34,
     "metadata": {},
     "output_type": "execute_result"
    }
   ],
   "source": [
    "pred[pred['kmean3']==0].head(10)"
   ]
  },
  {
   "cell_type": "code",
   "execution_count": 37,
   "metadata": {},
   "outputs": [],
   "source": [
    "check = pd.merge(df, pred, left_index=True, right_index=True)\n"
   ]
  },
  {
   "cell_type": "code",
   "execution_count": 38,
   "metadata": {},
   "outputs": [
    {
     "data": {
      "text/html": [
       "<div>\n",
       "<style scoped>\n",
       "    .dataframe tbody tr th:only-of-type {\n",
       "        vertical-align: middle;\n",
       "    }\n",
       "\n",
       "    .dataframe tbody tr th {\n",
       "        vertical-align: top;\n",
       "    }\n",
       "\n",
       "    .dataframe thead th {\n",
       "        text-align: right;\n",
       "    }\n",
       "</style>\n",
       "<table border=\"1\" class=\"dataframe\">\n",
       "  <thead>\n",
       "    <tr style=\"text-align: right;\">\n",
       "      <th></th>\n",
       "      <th>driver_id</th>\n",
       "      <th>ride_distance_x</th>\n",
       "      <th>ride_duration_x</th>\n",
       "      <th>ride_fare_x</th>\n",
       "      <th>ride_id</th>\n",
       "      <th>month_</th>\n",
       "      <th>week_number</th>\n",
       "      <th>ride_distance_y</th>\n",
       "      <th>ride_duration_y</th>\n",
       "      <th>ride_fare_y</th>\n",
       "      <th>kmean1</th>\n",
       "      <th>kmean2</th>\n",
       "      <th>kmean3</th>\n",
       "    </tr>\n",
       "  </thead>\n",
       "  <tbody>\n",
       "    <tr>\n",
       "      <th>0</th>\n",
       "      <td>a84478867f4a6fb6450da1cb47458308</td>\n",
       "      <td>3463</td>\n",
       "      <td>566</td>\n",
       "      <td>9.204575</td>\n",
       "      <td>fdc13e77c91273c7f9d40dbf561114c2</td>\n",
       "      <td>5</td>\n",
       "      <td>20</td>\n",
       "      <td>3463</td>\n",
       "      <td>566</td>\n",
       "      <td>9.204575</td>\n",
       "      <td>1</td>\n",
       "      <td>0</td>\n",
       "      <td>2</td>\n",
       "    </tr>\n",
       "    <tr>\n",
       "      <th>1</th>\n",
       "      <td>15e0ade28a7d24026b2fe91ef528ddf5</td>\n",
       "      <td>1854</td>\n",
       "      <td>576</td>\n",
       "      <td>7.054823</td>\n",
       "      <td>fdc189c49d4c311ac5b19beece9766d4</td>\n",
       "      <td>4</td>\n",
       "      <td>17</td>\n",
       "      <td>1854</td>\n",
       "      <td>576</td>\n",
       "      <td>7.054823</td>\n",
       "      <td>1</td>\n",
       "      <td>0</td>\n",
       "      <td>2</td>\n",
       "    </tr>\n",
       "    <tr>\n",
       "      <th>2</th>\n",
       "      <td>72ca99bb6667024a23e1f68904b06fd0</td>\n",
       "      <td>2982</td>\n",
       "      <td>562</td>\n",
       "      <td>7.860864</td>\n",
       "      <td>fdc23c532dd9d259db81eb8ecb8b2c91</td>\n",
       "      <td>4</td>\n",
       "      <td>18</td>\n",
       "      <td>2982</td>\n",
       "      <td>562</td>\n",
       "      <td>7.860864</td>\n",
       "      <td>1</td>\n",
       "      <td>0</td>\n",
       "      <td>2</td>\n",
       "    </tr>\n",
       "    <tr>\n",
       "      <th>3</th>\n",
       "      <td>5cff9e4588a1d8b4b0fd703c4720421b</td>\n",
       "      <td>4102</td>\n",
       "      <td>797</td>\n",
       "      <td>9.541189</td>\n",
       "      <td>fdc33e167071cfcb18751a6bf0965b56</td>\n",
       "      <td>6</td>\n",
       "      <td>26</td>\n",
       "      <td>4102</td>\n",
       "      <td>797</td>\n",
       "      <td>9.541189</td>\n",
       "      <td>1</td>\n",
       "      <td>4</td>\n",
       "      <td>2</td>\n",
       "    </tr>\n",
       "    <tr>\n",
       "      <th>4</th>\n",
       "      <td>a3c39ee40d7bb0ab8e49efc44cb6735c</td>\n",
       "      <td>19063</td>\n",
       "      <td>1119</td>\n",
       "      <td>21.331953</td>\n",
       "      <td>fdc34de09b428ae239b12d7964957498</td>\n",
       "      <td>6</td>\n",
       "      <td>24</td>\n",
       "      <td>19063</td>\n",
       "      <td>1119</td>\n",
       "      <td>21.331953</td>\n",
       "      <td>4</td>\n",
       "      <td>2</td>\n",
       "      <td>3</td>\n",
       "    </tr>\n",
       "  </tbody>\n",
       "</table>\n",
       "</div>"
      ],
      "text/plain": [
       "                          driver_id  ride_distance_x  ride_duration_x  \\\n",
       "0  a84478867f4a6fb6450da1cb47458308             3463              566   \n",
       "1  15e0ade28a7d24026b2fe91ef528ddf5             1854              576   \n",
       "2  72ca99bb6667024a23e1f68904b06fd0             2982              562   \n",
       "3  5cff9e4588a1d8b4b0fd703c4720421b             4102              797   \n",
       "4  a3c39ee40d7bb0ab8e49efc44cb6735c            19063             1119   \n",
       "\n",
       "   ride_fare_x                           ride_id  month_  week_number  \\\n",
       "0     9.204575  fdc13e77c91273c7f9d40dbf561114c2       5           20   \n",
       "1     7.054823  fdc189c49d4c311ac5b19beece9766d4       4           17   \n",
       "2     7.860864  fdc23c532dd9d259db81eb8ecb8b2c91       4           18   \n",
       "3     9.541189  fdc33e167071cfcb18751a6bf0965b56       6           26   \n",
       "4    21.331953  fdc34de09b428ae239b12d7964957498       6           24   \n",
       "\n",
       "   ride_distance_y  ride_duration_y  ride_fare_y  kmean1  kmean2  kmean3  \n",
       "0             3463              566     9.204575       1       0       2  \n",
       "1             1854              576     7.054823       1       0       2  \n",
       "2             2982              562     7.860864       1       0       2  \n",
       "3             4102              797     9.541189       1       4       2  \n",
       "4            19063             1119    21.331953       4       2       3  "
      ]
     },
     "execution_count": 38,
     "metadata": {},
     "output_type": "execute_result"
    }
   ],
   "source": [
    "check.head()"
   ]
  },
  {
   "cell_type": "code",
   "execution_count": 42,
   "metadata": {},
   "outputs": [
    {
     "data": {
      "text/html": [
       "<div>\n",
       "<style scoped>\n",
       "    .dataframe tbody tr th:only-of-type {\n",
       "        vertical-align: middle;\n",
       "    }\n",
       "\n",
       "    .dataframe tbody tr th {\n",
       "        vertical-align: top;\n",
       "    }\n",
       "\n",
       "    .dataframe thead th {\n",
       "        text-align: right;\n",
       "    }\n",
       "</style>\n",
       "<table border=\"1\" class=\"dataframe\">\n",
       "  <thead>\n",
       "    <tr style=\"text-align: right;\">\n",
       "      <th></th>\n",
       "      <th>driver_id</th>\n",
       "      <th>ride_id</th>\n",
       "      <th>ride_distance_y</th>\n",
       "      <th>ride_duration_y</th>\n",
       "      <th>ride_fare_y</th>\n",
       "      <th>kmean3</th>\n",
       "    </tr>\n",
       "  </thead>\n",
       "  <tbody>\n",
       "    <tr>\n",
       "      <th>0</th>\n",
       "      <td>a84478867f4a6fb6450da1cb47458308</td>\n",
       "      <td>fdc13e77c91273c7f9d40dbf561114c2</td>\n",
       "      <td>3463</td>\n",
       "      <td>566</td>\n",
       "      <td>9.204575</td>\n",
       "      <td>2</td>\n",
       "    </tr>\n",
       "    <tr>\n",
       "      <th>1</th>\n",
       "      <td>15e0ade28a7d24026b2fe91ef528ddf5</td>\n",
       "      <td>fdc189c49d4c311ac5b19beece9766d4</td>\n",
       "      <td>1854</td>\n",
       "      <td>576</td>\n",
       "      <td>7.054823</td>\n",
       "      <td>2</td>\n",
       "    </tr>\n",
       "    <tr>\n",
       "      <th>2</th>\n",
       "      <td>72ca99bb6667024a23e1f68904b06fd0</td>\n",
       "      <td>fdc23c532dd9d259db81eb8ecb8b2c91</td>\n",
       "      <td>2982</td>\n",
       "      <td>562</td>\n",
       "      <td>7.860864</td>\n",
       "      <td>2</td>\n",
       "    </tr>\n",
       "    <tr>\n",
       "      <th>3</th>\n",
       "      <td>5cff9e4588a1d8b4b0fd703c4720421b</td>\n",
       "      <td>fdc33e167071cfcb18751a6bf0965b56</td>\n",
       "      <td>4102</td>\n",
       "      <td>797</td>\n",
       "      <td>9.541189</td>\n",
       "      <td>2</td>\n",
       "    </tr>\n",
       "    <tr>\n",
       "      <th>4</th>\n",
       "      <td>a3c39ee40d7bb0ab8e49efc44cb6735c</td>\n",
       "      <td>fdc34de09b428ae239b12d7964957498</td>\n",
       "      <td>19063</td>\n",
       "      <td>1119</td>\n",
       "      <td>21.331953</td>\n",
       "      <td>3</td>\n",
       "    </tr>\n",
       "    <tr>\n",
       "      <th>5</th>\n",
       "      <td>1e836fdeba5bcacf45438c08bfcf4fa3</td>\n",
       "      <td>fdc3b8634c57ad1ce78b898be7eee8e8</td>\n",
       "      <td>2197</td>\n",
       "      <td>560</td>\n",
       "      <td>7.299922</td>\n",
       "      <td>2</td>\n",
       "    </tr>\n",
       "    <tr>\n",
       "      <th>6</th>\n",
       "      <td>3bfb185b9491beb56fc10b6212c6c9c2</td>\n",
       "      <td>fdc409b53365b3b683b4b8e474923cd7</td>\n",
       "      <td>15050</td>\n",
       "      <td>886</td>\n",
       "      <td>17.584361</td>\n",
       "      <td>0</td>\n",
       "    </tr>\n",
       "    <tr>\n",
       "      <th>7</th>\n",
       "      <td>3a52faf7577b389cbe9912652cbad33c</td>\n",
       "      <td>fdc4420c4c0aebf5da05c07674dc524d</td>\n",
       "      <td>3742</td>\n",
       "      <td>880</td>\n",
       "      <td>9.503942</td>\n",
       "      <td>0</td>\n",
       "    </tr>\n",
       "    <tr>\n",
       "      <th>8</th>\n",
       "      <td>56bda1ed3f3299ff6e8465398a498a5b</td>\n",
       "      <td>fdc4ce50b85f38cc0c750ae352e43e1b</td>\n",
       "      <td>18389</td>\n",
       "      <td>1565</td>\n",
       "      <td>22.610329</td>\n",
       "      <td>3</td>\n",
       "    </tr>\n",
       "    <tr>\n",
       "      <th>9</th>\n",
       "      <td>7e335469ce82f86c20d06b06ccfa1da1</td>\n",
       "      <td>fdc4ee3193ec5593a941fa064ecf3629</td>\n",
       "      <td>2416</td>\n",
       "      <td>548</td>\n",
       "      <td>7.456414</td>\n",
       "      <td>2</td>\n",
       "    </tr>\n",
       "  </tbody>\n",
       "</table>\n",
       "</div>"
      ],
      "text/plain": [
       "                          driver_id                           ride_id  \\\n",
       "0  a84478867f4a6fb6450da1cb47458308  fdc13e77c91273c7f9d40dbf561114c2   \n",
       "1  15e0ade28a7d24026b2fe91ef528ddf5  fdc189c49d4c311ac5b19beece9766d4   \n",
       "2  72ca99bb6667024a23e1f68904b06fd0  fdc23c532dd9d259db81eb8ecb8b2c91   \n",
       "3  5cff9e4588a1d8b4b0fd703c4720421b  fdc33e167071cfcb18751a6bf0965b56   \n",
       "4  a3c39ee40d7bb0ab8e49efc44cb6735c  fdc34de09b428ae239b12d7964957498   \n",
       "5  1e836fdeba5bcacf45438c08bfcf4fa3  fdc3b8634c57ad1ce78b898be7eee8e8   \n",
       "6  3bfb185b9491beb56fc10b6212c6c9c2  fdc409b53365b3b683b4b8e474923cd7   \n",
       "7  3a52faf7577b389cbe9912652cbad33c  fdc4420c4c0aebf5da05c07674dc524d   \n",
       "8  56bda1ed3f3299ff6e8465398a498a5b  fdc4ce50b85f38cc0c750ae352e43e1b   \n",
       "9  7e335469ce82f86c20d06b06ccfa1da1  fdc4ee3193ec5593a941fa064ecf3629   \n",
       "\n",
       "   ride_distance_y  ride_duration_y  ride_fare_y  kmean3  \n",
       "0             3463              566     9.204575       2  \n",
       "1             1854              576     7.054823       2  \n",
       "2             2982              562     7.860864       2  \n",
       "3             4102              797     9.541189       2  \n",
       "4            19063             1119    21.331953       3  \n",
       "5             2197              560     7.299922       2  \n",
       "6            15050              886    17.584361       0  \n",
       "7             3742              880     9.503942       0  \n",
       "8            18389             1565    22.610329       3  \n",
       "9             2416              548     7.456414       2  "
      ]
     },
     "execution_count": 42,
     "metadata": {},
     "output_type": "execute_result"
    }
   ],
   "source": [
    "yo = check[['driver_id', 'ride_id', 'ride_distance_y', 'ride_duration_y', 'ride_fare_y', 'kmean3']]\n",
    "yo.head(10)"
   ]
  },
  {
   "cell_type": "markdown",
   "metadata": {},
   "source": [
    "## Profiling"
   ]
  },
  {
   "cell_type": "markdown",
   "metadata": {},
   "source": [
    "**Profiling and its usage**<br>\n",
    "Having decided (for now) how many clusters to use, we would like to get a better understanding of what values are in those clusters are and interpret them.\n",
    "\n",
    "Data analytics is used to eventually make decisions, and that is feasible only when we are comfortable (enough) with our understanding of the analytics results, including our ability to clearly interpret them.\n",
    "\n",
    "To this purpose, one needs to spend time visualizing and understanding the data within each of the selected clusters. For example, one can see how the summary statistics (e.g. averages, standard deviations, etc) of the profiling attributes differ across the segments."
   ]
  },
  {
   "cell_type": "markdown",
   "metadata": {},
   "source": [
    "In our case, assuming we decided we use the 3 clusters found using kmean algorithm as outlined above, we can see how the responses changes across clusters. The average values of our data within each cluster are:"
   ]
  },
  {
   "cell_type": "code",
   "execution_count": 60,
   "metadata": {
    "scrolled": true
   },
   "outputs": [
    {
     "data": {
      "text/html": [
       "<div>\n",
       "<style scoped>\n",
       "    .dataframe tbody tr th:only-of-type {\n",
       "        vertical-align: middle;\n",
       "    }\n",
       "\n",
       "    .dataframe tbody tr th {\n",
       "        vertical-align: top;\n",
       "    }\n",
       "\n",
       "    .dataframe thead th {\n",
       "        text-align: right;\n",
       "    }\n",
       "</style>\n",
       "<table border=\"1\" class=\"dataframe\">\n",
       "  <thead>\n",
       "    <tr style=\"text-align: right;\">\n",
       "      <th></th>\n",
       "      <th>kmean3</th>\n",
       "      <th>ride_distance_y</th>\n",
       "      <th>ride_duration_y</th>\n",
       "      <th>ride_fare_y</th>\n",
       "    </tr>\n",
       "  </thead>\n",
       "  <tbody>\n",
       "    <tr>\n",
       "      <th>0</th>\n",
       "      <td>0</td>\n",
       "      <td>6359</td>\n",
       "      <td>1031</td>\n",
       "      <td>12.334822</td>\n",
       "    </tr>\n",
       "    <tr>\n",
       "      <th>1</th>\n",
       "      <td>1</td>\n",
       "      <td>49899</td>\n",
       "      <td>3009</td>\n",
       "      <td>49.691938</td>\n",
       "    </tr>\n",
       "    <tr>\n",
       "      <th>2</th>\n",
       "      <td>2</td>\n",
       "      <td>2660</td>\n",
       "      <td>522</td>\n",
       "      <td>7.643455</td>\n",
       "    </tr>\n",
       "    <tr>\n",
       "      <th>3</th>\n",
       "      <td>3</td>\n",
       "      <td>21822</td>\n",
       "      <td>1656</td>\n",
       "      <td>24.855971</td>\n",
       "    </tr>\n",
       "  </tbody>\n",
       "</table>\n",
       "</div>"
      ],
      "text/plain": [
       "   kmean3  ride_distance_y  ride_duration_y  ride_fare_y\n",
       "0       0             6359             1031    12.334822\n",
       "1       1            49899             3009    49.691938\n",
       "2       2             2660              522     7.643455\n",
       "3       3            21822             1656    24.855971"
      ]
     },
     "execution_count": 60,
     "metadata": {},
     "output_type": "execute_result"
    }
   ],
   "source": [
    "p_ = yo[['ride_distance_y', 'ride_duration_y', 'ride_fare_y','kmean3']]\n",
    "pivoted = p_.groupby('kmean3')[['ride_distance_y', 'ride_duration_y', 'ride_fare_y']].median().reset_index()\n",
    "pivoted"
   ]
  },
  {
   "cell_type": "code",
   "execution_count": 44,
   "metadata": {},
   "outputs": [],
   "source": [
    "yo.to_csv('pivoted.csv', index = False)"
   ]
  },
  {
   "cell_type": "code",
   "execution_count": 58,
   "metadata": {},
   "outputs": [
    {
     "name": "stdout",
     "output_type": "stream",
     "text": [
      "Drivers of 1st Segment: 837\n",
      "Drivers of 2nd Segment (bestest): 589\n",
      "Drivers of 3rd Segment: 837\n",
      "Drivers of 4th Segment: 810\n"
     ]
    }
   ],
   "source": [
    "print('Drivers of 1st Segment:', len(yo[yo['kmean3']==0]['driver_id'].unique()))\n",
    "print('Drivers of 2nd Segment (bestest):',len(yo[yo['kmean3']==1]['driver_id'].unique()))\n",
    "print('Drivers of 3rd Segment:',len(yo[yo['kmean3']==2]['driver_id'].unique()))\n",
    "print('Drivers of 4th Segment:',len(yo[yo['kmean3']==3]['driver_id'].unique()))"
   ]
  },
  {
   "cell_type": "code",
   "execution_count": 79,
   "metadata": {},
   "outputs": [],
   "source": [
    "pivoted.to_csv('pivot_plotting.csv', index = False)"
   ]
  },
  {
   "cell_type": "markdown",
   "metadata": {},
   "source": [
    "# Radar Plot"
   ]
  },
  {
   "cell_type": "markdown",
   "metadata": {},
   "source": [
    "The radar chart is a chart and/or plot that consists of a sequence of equi-angular spokes, called radii, with each spoke representing one of the variables. The data length of a spoke is proportional to the magnitude of the variable for the data point relative to the maximum magnitude of the variable across all data points. A line is drawn connecting the data values for each spoke. This gives the plot a star-like appearance and the origin of one of the popular names for this plot.\n",
    "\n",
    "<img src=\"https://upload.wikimedia.org/wikipedia/commons/0/00/Spider_Chart.svg\" />"
   ]
  },
  {
   "cell_type": "code",
   "execution_count": null,
   "metadata": {},
   "outputs": [],
   "source": [
    "!pip install chart_studio"
   ]
  },
  {
   "cell_type": "markdown",
   "metadata": {},
   "source": [
    "[Sign UP](https://plot.ly/Auth/login/?action=signup#/) on Plotly, verify your email address and regenerate your API key"
   ]
  },
  {
   "cell_type": "code",
   "execution_count": 66,
   "metadata": {},
   "outputs": [],
   "source": [
    "import chart_studio\n",
    "chart_studio.tools.set_credentials_file(username='albabahmadkhan', api_key='pZYGxTisJyDNMewlajUs')"
   ]
  },
  {
   "cell_type": "code",
   "execution_count": 71,
   "metadata": {},
   "outputs": [
    {
     "ename": "TypeError",
     "evalue": "get_config() takes 0 positional arguments but 1 was given",
     "output_type": "error",
     "traceback": [
      "\u001b[1;31m---------------------------------------------------------------------------\u001b[0m",
      "\u001b[1;31mTypeError\u001b[0m                                 Traceback (most recent call last)",
      "\u001b[1;32m<ipython-input-71-35e13a61f277>\u001b[0m in \u001b[0;36m<module>\u001b[1;34m\u001b[0m\n\u001b[0;32m      1\u001b[0m \u001b[1;32mimport\u001b[0m \u001b[0mchart_studio\u001b[0m\u001b[1;33m.\u001b[0m\u001b[0mplotly\u001b[0m \u001b[1;32mas\u001b[0m \u001b[0mpy\u001b[0m\u001b[1;33m\u001b[0m\u001b[1;33m\u001b[0m\u001b[0m\n\u001b[1;32m----> 2\u001b[1;33m \u001b[0mpy\u001b[0m\u001b[1;33m.\u001b[0m\u001b[0mget_config\u001b[0m\u001b[1;33m(\u001b[0m\u001b[1;34m'plotly_domain'\u001b[0m\u001b[1;33m)\u001b[0m\u001b[1;33m\u001b[0m\u001b[1;33m\u001b[0m\u001b[0m\n\u001b[0m\u001b[0;32m      3\u001b[0m \u001b[1;32mimport\u001b[0m \u001b[0mplotly\u001b[0m\u001b[1;33m.\u001b[0m\u001b[0mgraph_objs\u001b[0m \u001b[1;32mas\u001b[0m \u001b[0mgo\u001b[0m\u001b[1;33m\u001b[0m\u001b[1;33m\u001b[0m\u001b[0m\n",
      "\u001b[1;31mTypeError\u001b[0m: get_config() takes 0 positional arguments but 1 was given"
     ]
    }
   ],
   "source": [
    "import chart_studio.plotly as py\n",
    "py.get_config('plotly_domain')\n",
    "import plotly.graph_objs as go\n"
   ]
  },
  {
   "cell_type": "code",
   "execution_count": 75,
   "metadata": {},
   "outputs": [],
   "source": [
    "from chart_studio.tools import set_config_file\n",
    "set_config_file(plotly_domain=\"https://plotly.com\", plotly_api_domain=\"https://api.plotly.com\")"
   ]
  },
  {
   "cell_type": "code",
   "execution_count": 76,
   "metadata": {},
   "outputs": [],
   "source": [
    "radar_data = [\n",
    "    go.Scatterpolar(\n",
    "      r = list(pivoted.loc[0,['ride_distance_y', 'ride_duration_y', 'ride_fare_y','ride_distance_y']]),\n",
    "      theta = ['ride_distance_y', 'ride_duration_y', 'ride_fare_y','ride_distance_y'],\n",
    "      fill = None,\n",
    "      fillcolor=None,\n",
    "      name = 'Cluster 0'\n",
    "    ),\n",
    "    go.Scatterpolar(\n",
    "      r = list(pivoted.loc[1,['ride_distance_y', 'ride_duration_y', 'ride_fare_y','ride_distance_y']]),\n",
    "      theta = ['ride_distance_y', 'ride_duration_y', 'ride_fare_y','ride_distance_y'],\n",
    "      fill = None,\n",
    "      fillcolor=None,\n",
    "      name = 'Cluster 1'\n",
    "    ),\n",
    "    go.Scatterpolar(\n",
    "      r = list(pivoted.loc[2,['ride_distance_y', 'ride_duration_y', 'ride_fare_y','ride_distance_y']]),\n",
    "      theta = ['ride_distance_y', 'ride_duration_y', 'ride_fare_y','ride_distance_y'],\n",
    "      fill = None,\n",
    "      fillcolor=None,\n",
    "      name = 'Cluster 2'\n",
    "    ),\n",
    "    go.Scatterpolar(\n",
    "      r = list(pivoted.loc[2,['ride_distance_y', 'ride_duration_y', 'ride_fare_y','ride_distance_y']]),\n",
    "      theta = ['ride_distance_y', 'ride_duration_y', 'ride_fare_y','ride_distance_y'],\n",
    "      fill = None,\n",
    "      fillcolor=None,\n",
    "      name = 'Cluster 3'\n",
    "    )\n",
    "\n",
    "]"
   ]
  },
  {
   "cell_type": "code",
   "execution_count": 77,
   "metadata": {},
   "outputs": [],
   "source": [
    "radar_layout = go.Layout(polar = dict(radialaxis = dict(visible = True,range = [0, 9000])), showlegend = True)"
   ]
  },
  {
   "cell_type": "code",
   "execution_count": null,
   "metadata": {},
   "outputs": [],
   "source": []
  },
  {
   "cell_type": "code",
   "execution_count": 78,
   "metadata": {},
   "outputs": [
    {
     "data": {
      "text/html": [
       "\n",
       "        <iframe\n",
       "            width=\"100%\"\n",
       "            height=\"525px\"\n",
       "            src=\"https://plotly.com/~albabahmadkhan/61.embed\"\n",
       "            frameborder=\"0\"\n",
       "            allowfullscreen\n",
       "        ></iframe>\n",
       "        "
      ],
      "text/plain": [
       "<IPython.lib.display.IFrame at 0x2227813a448>"
      ]
     },
     "execution_count": 78,
     "metadata": {},
     "output_type": "execute_result"
    }
   ],
   "source": [
    "fig = go.Figure(data=radar_data, layout=radar_layout)\n",
    "py.iplot(fig, filename = \"radar\")"
   ]
  },
  {
   "cell_type": "code",
   "execution_count": null,
   "metadata": {},
   "outputs": [],
   "source": []
  }
 ],
 "metadata": {
  "kernelspec": {
   "display_name": "Python 3",
   "language": "python",
   "name": "python3"
  },
  "language_info": {
   "codemirror_mode": {
    "name": "ipython",
    "version": 3
   },
   "file_extension": ".py",
   "mimetype": "text/x-python",
   "name": "python",
   "nbconvert_exporter": "python",
   "pygments_lexer": "ipython3",
   "version": "3.7.4"
  }
 },
 "nbformat": 4,
 "nbformat_minor": 2
}
