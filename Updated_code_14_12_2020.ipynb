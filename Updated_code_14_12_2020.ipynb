{
 "cells": [
  {
   "cell_type": "code",
   "execution_count": 17,
   "metadata": {},
   "outputs": [],
   "source": [
    "import pandas as pd\n",
    "import numpy as np"
   ]
  },
  {
   "cell_type": "code",
   "execution_count": 18,
   "metadata": {},
   "outputs": [
    {
     "data": {
      "text/html": [
       "<div>\n",
       "<style scoped>\n",
       "    .dataframe tbody tr th:only-of-type {\n",
       "        vertical-align: middle;\n",
       "    }\n",
       "\n",
       "    .dataframe tbody tr th {\n",
       "        vertical-align: top;\n",
       "    }\n",
       "\n",
       "    .dataframe thead th {\n",
       "        text-align: right;\n",
       "    }\n",
       "</style>\n",
       "<table border=\"1\" class=\"dataframe\">\n",
       "  <thead>\n",
       "    <tr style=\"text-align: right;\">\n",
       "      <th></th>\n",
       "      <th>driver_id</th>\n",
       "      <th>month_</th>\n",
       "      <th>Life_time</th>\n",
       "    </tr>\n",
       "  </thead>\n",
       "  <tbody>\n",
       "    <tr>\n",
       "      <th>0</th>\n",
       "      <td>002be0ffdc997bd5c50703158b7c2491</td>\n",
       "      <td>3</td>\n",
       "      <td>8.561134</td>\n",
       "    </tr>\n",
       "    <tr>\n",
       "      <th>1</th>\n",
       "      <td>002be0ffdc997bd5c50703158b7c2491</td>\n",
       "      <td>4</td>\n",
       "      <td>10.784326</td>\n",
       "    </tr>\n",
       "    <tr>\n",
       "      <th>2</th>\n",
       "      <td>002be0ffdc997bd5c50703158b7c2491</td>\n",
       "      <td>5</td>\n",
       "      <td>12.354502</td>\n",
       "    </tr>\n",
       "    <tr>\n",
       "      <th>3</th>\n",
       "      <td>002be0ffdc997bd5c50703158b7c2491</td>\n",
       "      <td>6</td>\n",
       "      <td>10.577321</td>\n",
       "    </tr>\n",
       "    <tr>\n",
       "      <th>4</th>\n",
       "      <td>007f0389f9c7b03ef97098422f902e62</td>\n",
       "      <td>3</td>\n",
       "      <td>12.000977</td>\n",
       "    </tr>\n",
       "  </tbody>\n",
       "</table>\n",
       "</div>"
      ],
      "text/plain": [
       "                          driver_id  month_  Life_time\n",
       "0  002be0ffdc997bd5c50703158b7c2491       3   8.561134\n",
       "1  002be0ffdc997bd5c50703158b7c2491       4  10.784326\n",
       "2  002be0ffdc997bd5c50703158b7c2491       5  12.354502\n",
       "3  002be0ffdc997bd5c50703158b7c2491       6  10.577321\n",
       "4  007f0389f9c7b03ef97098422f902e62       3  12.000977"
      ]
     },
     "execution_count": 18,
     "metadata": {},
     "output_type": "execute_result"
    }
   ],
   "source": [
    "df = pd.read_csv('sheet.csv', sep = ',')\n",
    "df.head()"
   ]
  },
  {
   "cell_type": "markdown",
   "metadata": {},
   "source": [
    "# Overall Life time value"
   ]
  },
  {
   "cell_type": "code",
   "execution_count": 101,
   "metadata": {},
   "outputs": [
    {
     "data": {
      "text/plain": [
       "11.502854169999999"
      ]
     },
     "execution_count": 101,
     "metadata": {},
     "output_type": "execute_result"
    }
   ],
   "source": [
    "from statistics import median\n",
    "median(df['Life_time'])\n"
   ]
  },
  {
   "cell_type": "code",
   "execution_count": null,
   "metadata": {},
   "outputs": [],
   "source": []
  },
  {
   "cell_type": "code",
   "execution_count": 102,
   "metadata": {},
   "outputs": [
    {
     "data": {
      "text/html": [
       "<div>\n",
       "<style scoped>\n",
       "    .dataframe tbody tr th:only-of-type {\n",
       "        vertical-align: middle;\n",
       "    }\n",
       "\n",
       "    .dataframe tbody tr th {\n",
       "        vertical-align: top;\n",
       "    }\n",
       "\n",
       "    .dataframe thead th {\n",
       "        text-align: right;\n",
       "    }\n",
       "</style>\n",
       "<table border=\"1\" class=\"dataframe\">\n",
       "  <thead>\n",
       "    <tr style=\"text-align: right;\">\n",
       "      <th></th>\n",
       "      <th>driver_id</th>\n",
       "      <th>Life_time</th>\n",
       "    </tr>\n",
       "  </thead>\n",
       "  <tbody>\n",
       "    <tr>\n",
       "      <th>0</th>\n",
       "      <td>002be0ffdc997bd5c50703158b7c2491</td>\n",
       "      <td>10.680824</td>\n",
       "    </tr>\n",
       "    <tr>\n",
       "      <th>1</th>\n",
       "      <td>007f0389f9c7b03ef97098422f902e62</td>\n",
       "      <td>9.621954</td>\n",
       "    </tr>\n",
       "    <tr>\n",
       "      <th>2</th>\n",
       "      <td>011e5c5dfc5c2c92501b8b24d47509bc</td>\n",
       "      <td>9.305323</td>\n",
       "    </tr>\n",
       "    <tr>\n",
       "      <th>3</th>\n",
       "      <td>0152a2f305e71d26cc964f8d4411add9</td>\n",
       "      <td>13.260777</td>\n",
       "    </tr>\n",
       "    <tr>\n",
       "      <th>4</th>\n",
       "      <td>01674381af7edd264113d4e6ed55ecda</td>\n",
       "      <td>13.800950</td>\n",
       "    </tr>\n",
       "    <tr>\n",
       "      <th>...</th>\n",
       "      <td>...</td>\n",
       "      <td>...</td>\n",
       "    </tr>\n",
       "    <tr>\n",
       "      <th>832</th>\n",
       "      <td>ff419a3476e21e269e340b5f1f05414e</td>\n",
       "      <td>13.516340</td>\n",
       "    </tr>\n",
       "    <tr>\n",
       "      <th>833</th>\n",
       "      <td>ff714a67ba8c6a108261cd81e3b77f3a</td>\n",
       "      <td>11.483160</td>\n",
       "    </tr>\n",
       "    <tr>\n",
       "      <th>834</th>\n",
       "      <td>fff482c704d36a1afe8b8978d5486283</td>\n",
       "      <td>10.605661</td>\n",
       "    </tr>\n",
       "    <tr>\n",
       "      <th>835</th>\n",
       "      <td>fffecccc49436c5389075b13209f0dfa</td>\n",
       "      <td>12.083274</td>\n",
       "    </tr>\n",
       "    <tr>\n",
       "      <th>836</th>\n",
       "      <td>ffff51a71f2f185ec5e97d59dbcd7a78</td>\n",
       "      <td>12.032295</td>\n",
       "    </tr>\n",
       "  </tbody>\n",
       "</table>\n",
       "<p>837 rows × 2 columns</p>\n",
       "</div>"
      ],
      "text/plain": [
       "                            driver_id  Life_time\n",
       "0    002be0ffdc997bd5c50703158b7c2491  10.680824\n",
       "1    007f0389f9c7b03ef97098422f902e62   9.621954\n",
       "2    011e5c5dfc5c2c92501b8b24d47509bc   9.305323\n",
       "3    0152a2f305e71d26cc964f8d4411add9  13.260777\n",
       "4    01674381af7edd264113d4e6ed55ecda  13.800950\n",
       "..                                ...        ...\n",
       "832  ff419a3476e21e269e340b5f1f05414e  13.516340\n",
       "833  ff714a67ba8c6a108261cd81e3b77f3a  11.483160\n",
       "834  fff482c704d36a1afe8b8978d5486283  10.605661\n",
       "835  fffecccc49436c5389075b13209f0dfa  12.083274\n",
       "836  ffff51a71f2f185ec5e97d59dbcd7a78  12.032295\n",
       "\n",
       "[837 rows x 2 columns]"
      ]
     },
     "execution_count": 102,
     "metadata": {},
     "output_type": "execute_result"
    }
   ],
   "source": [
    "p_ = df[[\"driver_id\",'month_', 'Life_time']]\n",
    "pivoted = p_.groupby('driver_id')[\"Life_time\"].median().reset_index()\n",
    "\n",
    "pivoted"
   ]
  },
  {
   "cell_type": "markdown",
   "metadata": {},
   "source": [
    "# Driver wise (Absolute Measures)"
   ]
  },
  {
   "cell_type": "code",
   "execution_count": 103,
   "metadata": {},
   "outputs": [
    {
     "data": {
      "text/html": [
       "<div>\n",
       "<style scoped>\n",
       "    .dataframe tbody tr th:only-of-type {\n",
       "        vertical-align: middle;\n",
       "    }\n",
       "\n",
       "    .dataframe tbody tr th {\n",
       "        vertical-align: top;\n",
       "    }\n",
       "\n",
       "    .dataframe thead th {\n",
       "        text-align: right;\n",
       "    }\n",
       "</style>\n",
       "<table border=\"1\" class=\"dataframe\">\n",
       "  <thead>\n",
       "    <tr style=\"text-align: right;\">\n",
       "      <th></th>\n",
       "      <th>driver_id</th>\n",
       "      <th>count</th>\n",
       "      <th>mean</th>\n",
       "      <th>std</th>\n",
       "      <th>min</th>\n",
       "      <th>25%</th>\n",
       "      <th>50%</th>\n",
       "      <th>75%</th>\n",
       "      <th>max</th>\n",
       "      <th>variance</th>\n",
       "      <th>Range</th>\n",
       "      <th>IQR</th>\n",
       "    </tr>\n",
       "  </thead>\n",
       "  <tbody>\n",
       "    <tr>\n",
       "      <th>0</th>\n",
       "      <td>002be0ffdc997bd5c50703158b7c2491</td>\n",
       "      <td>4.0</td>\n",
       "      <td>10.569321</td>\n",
       "      <td>1.556275</td>\n",
       "      <td>8.561134</td>\n",
       "      <td>10.073275</td>\n",
       "      <td>10.680824</td>\n",
       "      <td>11.176870</td>\n",
       "      <td>12.354502</td>\n",
       "      <td>2.421992</td>\n",
       "      <td>3.793368</td>\n",
       "      <td>1.103596</td>\n",
       "    </tr>\n",
       "    <tr>\n",
       "      <th>1</th>\n",
       "      <td>007f0389f9c7b03ef97098422f902e62</td>\n",
       "      <td>4.0</td>\n",
       "      <td>9.731948</td>\n",
       "      <td>1.850723</td>\n",
       "      <td>7.682906</td>\n",
       "      <td>8.632885</td>\n",
       "      <td>9.621954</td>\n",
       "      <td>10.721017</td>\n",
       "      <td>12.000977</td>\n",
       "      <td>3.425177</td>\n",
       "      <td>4.318071</td>\n",
       "      <td>2.088132</td>\n",
       "    </tr>\n",
       "    <tr>\n",
       "      <th>2</th>\n",
       "      <td>011e5c5dfc5c2c92501b8b24d47509bc</td>\n",
       "      <td>3.0</td>\n",
       "      <td>10.303018</td>\n",
       "      <td>2.010271</td>\n",
       "      <td>8.986749</td>\n",
       "      <td>9.146036</td>\n",
       "      <td>9.305323</td>\n",
       "      <td>10.961152</td>\n",
       "      <td>12.616981</td>\n",
       "      <td>4.041191</td>\n",
       "      <td>3.630232</td>\n",
       "      <td>1.815116</td>\n",
       "    </tr>\n",
       "    <tr>\n",
       "      <th>3</th>\n",
       "      <td>0152a2f305e71d26cc964f8d4411add9</td>\n",
       "      <td>3.0</td>\n",
       "      <td>12.544434</td>\n",
       "      <td>1.854579</td>\n",
       "      <td>10.438521</td>\n",
       "      <td>11.849649</td>\n",
       "      <td>13.260777</td>\n",
       "      <td>13.597391</td>\n",
       "      <td>13.934005</td>\n",
       "      <td>3.439463</td>\n",
       "      <td>3.495485</td>\n",
       "      <td>1.747742</td>\n",
       "    </tr>\n",
       "    <tr>\n",
       "      <th>4</th>\n",
       "      <td>01674381af7edd264113d4e6ed55ecda</td>\n",
       "      <td>3.0</td>\n",
       "      <td>14.033517</td>\n",
       "      <td>1.507291</td>\n",
       "      <td>12.656026</td>\n",
       "      <td>13.228488</td>\n",
       "      <td>13.800950</td>\n",
       "      <td>14.722262</td>\n",
       "      <td>15.643574</td>\n",
       "      <td>2.271928</td>\n",
       "      <td>2.987549</td>\n",
       "      <td>1.493774</td>\n",
       "    </tr>\n",
       "    <tr>\n",
       "      <th>...</th>\n",
       "      <td>...</td>\n",
       "      <td>...</td>\n",
       "      <td>...</td>\n",
       "      <td>...</td>\n",
       "      <td>...</td>\n",
       "      <td>...</td>\n",
       "      <td>...</td>\n",
       "      <td>...</td>\n",
       "      <td>...</td>\n",
       "      <td>...</td>\n",
       "      <td>...</td>\n",
       "      <td>...</td>\n",
       "    </tr>\n",
       "    <tr>\n",
       "      <th>832</th>\n",
       "      <td>ff419a3476e21e269e340b5f1f05414e</td>\n",
       "      <td>3.0</td>\n",
       "      <td>14.332972</td>\n",
       "      <td>1.970534</td>\n",
       "      <td>12.902037</td>\n",
       "      <td>13.209189</td>\n",
       "      <td>13.516340</td>\n",
       "      <td>15.048439</td>\n",
       "      <td>16.580537</td>\n",
       "      <td>3.883005</td>\n",
       "      <td>3.678500</td>\n",
       "      <td>1.839250</td>\n",
       "    </tr>\n",
       "    <tr>\n",
       "      <th>833</th>\n",
       "      <td>ff714a67ba8c6a108261cd81e3b77f3a</td>\n",
       "      <td>4.0</td>\n",
       "      <td>11.446371</td>\n",
       "      <td>1.022737</td>\n",
       "      <td>10.247864</td>\n",
       "      <td>10.825210</td>\n",
       "      <td>11.483160</td>\n",
       "      <td>12.104321</td>\n",
       "      <td>12.571298</td>\n",
       "      <td>1.045990</td>\n",
       "      <td>2.323435</td>\n",
       "      <td>1.279111</td>\n",
       "    </tr>\n",
       "    <tr>\n",
       "      <th>834</th>\n",
       "      <td>fff482c704d36a1afe8b8978d5486283</td>\n",
       "      <td>2.0</td>\n",
       "      <td>10.605661</td>\n",
       "      <td>2.266419</td>\n",
       "      <td>9.003061</td>\n",
       "      <td>9.804361</td>\n",
       "      <td>10.605661</td>\n",
       "      <td>11.406961</td>\n",
       "      <td>12.208262</td>\n",
       "      <td>5.136656</td>\n",
       "      <td>3.205201</td>\n",
       "      <td>1.602600</td>\n",
       "    </tr>\n",
       "    <tr>\n",
       "      <th>835</th>\n",
       "      <td>fffecccc49436c5389075b13209f0dfa</td>\n",
       "      <td>2.0</td>\n",
       "      <td>12.083274</td>\n",
       "      <td>1.166962</td>\n",
       "      <td>11.258107</td>\n",
       "      <td>11.670691</td>\n",
       "      <td>12.083274</td>\n",
       "      <td>12.495858</td>\n",
       "      <td>12.908441</td>\n",
       "      <td>1.361801</td>\n",
       "      <td>1.650334</td>\n",
       "      <td>0.825167</td>\n",
       "    </tr>\n",
       "    <tr>\n",
       "      <th>836</th>\n",
       "      <td>ffff51a71f2f185ec5e97d59dbcd7a78</td>\n",
       "      <td>2.0</td>\n",
       "      <td>12.032295</td>\n",
       "      <td>0.649817</td>\n",
       "      <td>11.572804</td>\n",
       "      <td>11.802550</td>\n",
       "      <td>12.032295</td>\n",
       "      <td>12.262040</td>\n",
       "      <td>12.491785</td>\n",
       "      <td>0.422263</td>\n",
       "      <td>0.918981</td>\n",
       "      <td>0.459490</td>\n",
       "    </tr>\n",
       "  </tbody>\n",
       "</table>\n",
       "<p>837 rows × 12 columns</p>\n",
       "</div>"
      ],
      "text/plain": [
       "                            driver_id  count       mean       std        min  \\\n",
       "0    002be0ffdc997bd5c50703158b7c2491    4.0  10.569321  1.556275   8.561134   \n",
       "1    007f0389f9c7b03ef97098422f902e62    4.0   9.731948  1.850723   7.682906   \n",
       "2    011e5c5dfc5c2c92501b8b24d47509bc    3.0  10.303018  2.010271   8.986749   \n",
       "3    0152a2f305e71d26cc964f8d4411add9    3.0  12.544434  1.854579  10.438521   \n",
       "4    01674381af7edd264113d4e6ed55ecda    3.0  14.033517  1.507291  12.656026   \n",
       "..                                ...    ...        ...       ...        ...   \n",
       "832  ff419a3476e21e269e340b5f1f05414e    3.0  14.332972  1.970534  12.902037   \n",
       "833  ff714a67ba8c6a108261cd81e3b77f3a    4.0  11.446371  1.022737  10.247864   \n",
       "834  fff482c704d36a1afe8b8978d5486283    2.0  10.605661  2.266419   9.003061   \n",
       "835  fffecccc49436c5389075b13209f0dfa    2.0  12.083274  1.166962  11.258107   \n",
       "836  ffff51a71f2f185ec5e97d59dbcd7a78    2.0  12.032295  0.649817  11.572804   \n",
       "\n",
       "           25%        50%        75%        max  variance     Range       IQR  \n",
       "0    10.073275  10.680824  11.176870  12.354502  2.421992  3.793368  1.103596  \n",
       "1     8.632885   9.621954  10.721017  12.000977  3.425177  4.318071  2.088132  \n",
       "2     9.146036   9.305323  10.961152  12.616981  4.041191  3.630232  1.815116  \n",
       "3    11.849649  13.260777  13.597391  13.934005  3.439463  3.495485  1.747742  \n",
       "4    13.228488  13.800950  14.722262  15.643574  2.271928  2.987549  1.493774  \n",
       "..         ...        ...        ...        ...       ...       ...       ...  \n",
       "832  13.209189  13.516340  15.048439  16.580537  3.883005  3.678500  1.839250  \n",
       "833  10.825210  11.483160  12.104321  12.571298  1.045990  2.323435  1.279111  \n",
       "834   9.804361  10.605661  11.406961  12.208262  5.136656  3.205201  1.602600  \n",
       "835  11.670691  12.083274  12.495858  12.908441  1.361801  1.650334  0.825167  \n",
       "836  11.802550  12.032295  12.262040  12.491785  0.422263  0.918981  0.459490  \n",
       "\n",
       "[837 rows x 12 columns]"
      ]
     },
     "execution_count": 103,
     "metadata": {},
     "output_type": "execute_result"
    }
   ],
   "source": [
    "p_ = df[[\"driver_id\",'month_', 'Life_time']]\n",
    "test1 =  p_.groupby('driver_id')[\"Life_time\"].describe().reset_index()\n",
    "test1['variance'] = test1['std']**2\n",
    "test1['Range'] =  test1['max']-test1['min']\n",
    "test1['IQR'] =  test1['75%']-test1['25%']\n",
    "test1"
   ]
  },
  {
   "cell_type": "markdown",
   "metadata": {},
   "source": [
    "# Overall Data (Absolute Measures)"
   ]
  },
  {
   "cell_type": "code",
   "execution_count": 104,
   "metadata": {},
   "outputs": [
    {
     "data": {
      "text/html": [
       "<div>\n",
       "<style scoped>\n",
       "    .dataframe tbody tr th:only-of-type {\n",
       "        vertical-align: middle;\n",
       "    }\n",
       "\n",
       "    .dataframe tbody tr th {\n",
       "        vertical-align: top;\n",
       "    }\n",
       "\n",
       "    .dataframe thead th {\n",
       "        text-align: right;\n",
       "    }\n",
       "</style>\n",
       "<table border=\"1\" class=\"dataframe\">\n",
       "  <thead>\n",
       "    <tr style=\"text-align: right;\">\n",
       "      <th></th>\n",
       "      <th>Life_time</th>\n",
       "    </tr>\n",
       "  </thead>\n",
       "  <tbody>\n",
       "    <tr>\n",
       "      <th>count</th>\n",
       "      <td>837.000000</td>\n",
       "    </tr>\n",
       "    <tr>\n",
       "      <th>mean</th>\n",
       "      <td>11.951040</td>\n",
       "    </tr>\n",
       "    <tr>\n",
       "      <th>std</th>\n",
       "      <td>1.984662</td>\n",
       "    </tr>\n",
       "    <tr>\n",
       "      <th>min</th>\n",
       "      <td>6.822764</td>\n",
       "    </tr>\n",
       "    <tr>\n",
       "      <th>25%</th>\n",
       "      <td>10.718642</td>\n",
       "    </tr>\n",
       "    <tr>\n",
       "      <th>50%</th>\n",
       "      <td>11.542235</td>\n",
       "    </tr>\n",
       "    <tr>\n",
       "      <th>75%</th>\n",
       "      <td>12.816154</td>\n",
       "    </tr>\n",
       "    <tr>\n",
       "      <th>max</th>\n",
       "      <td>26.679037</td>\n",
       "    </tr>\n",
       "  </tbody>\n",
       "</table>\n",
       "</div>"
      ],
      "text/plain": [
       "        Life_time\n",
       "count  837.000000\n",
       "mean    11.951040\n",
       "std      1.984662\n",
       "min      6.822764\n",
       "25%     10.718642\n",
       "50%     11.542235\n",
       "75%     12.816154\n",
       "max     26.679037"
      ]
     },
     "execution_count": 104,
     "metadata": {},
     "output_type": "execute_result"
    }
   ],
   "source": [
    "pivoted.describe()"
   ]
  },
  {
   "cell_type": "code",
   "execution_count": 105,
   "metadata": {},
   "outputs": [
    {
     "data": {
      "image/png": "[encoded data removed]",
      "text/plain": [
       "<Figure size 1224x360 with 1 Axes>"
      ]
     },
     "metadata": {
      "needs_background": "light"
     },
     "output_type": "display_data"
    }
   ],
   "source": [
    "import seaborn as sns\n",
    "#sns.set_theme(style=\"whitegrid\")\n",
    "import matplotlib.pyplot as plt\n",
    "plt.figure(figsize=(17,5))\n",
    "ax = sns.boxplot(df[\"Life_time\"], hue=\"Life_time\", data=pivoted)#, linewidth=2.5)"
   ]
  },
  {
   "cell_type": "code",
   "execution_count": 106,
   "metadata": {
    "scrolled": true
   },
   "outputs": [
    {
     "name": "stdout",
     "output_type": "stream",
     "text": [
      "Range: 19.856272502000003\n"
     ]
    }
   ],
   "source": [
    "Range = pivoted['Life_time'].max() -  pivoted['Life_time'].min()\n",
    "print(\"Range:\", Range)"
   ]
  },
  {
   "cell_type": "code",
   "execution_count": 107,
   "metadata": {},
   "outputs": [
    {
     "name": "stdout",
     "output_type": "stream",
     "text": [
      "Variance 3.9388832542439998\n"
     ]
    }
   ],
   "source": [
    "std = 1.984662\n",
    "Variance = std**2\n",
    "print(\"Variance\", Variance)"
   ]
  },
  {
   "cell_type": "code",
   "execution_count": 109,
   "metadata": {},
   "outputs": [
    {
     "name": "stdout",
     "output_type": "stream",
     "text": [
      "Inter Quartile Range: 2.097512\n",
      "New Minimum as per Boxplot: 7.572373999999999\n"
     ]
    }
   ],
   "source": [
    "IQR = 12.816154-10.718642\n",
    "print(\"Inter Quartile Range:\",IQR)\n",
    "Q1 = 10.718642\n",
    "lower_check = Q1 - IQR*1.5\n",
    "print(\"New Minimum as per Boxplot:\", lower_check)\n",
    "#df[df['Life_time']<lower_check]"
   ]
  },
  {
   "cell_type": "code",
   "execution_count": 28,
   "metadata": {},
   "outputs": [
    {
     "data": {
      "text/html": [
       "<div>\n",
       "<style scoped>\n",
       "    .dataframe tbody tr th:only-of-type {\n",
       "        vertical-align: middle;\n",
       "    }\n",
       "\n",
       "    .dataframe tbody tr th {\n",
       "        vertical-align: top;\n",
       "    }\n",
       "\n",
       "    .dataframe thead th {\n",
       "        text-align: right;\n",
       "    }\n",
       "</style>\n",
       "<table border=\"1\" class=\"dataframe\">\n",
       "  <thead>\n",
       "    <tr style=\"text-align: right;\">\n",
       "      <th></th>\n",
       "      <th>driver_id</th>\n",
       "      <th>month_</th>\n",
       "      <th>Life_time</th>\n",
       "    </tr>\n",
       "  </thead>\n",
       "  <tbody>\n",
       "    <tr>\n",
       "      <th>0</th>\n",
       "      <td>002be0ffdc997bd5c50703158b7c2491</td>\n",
       "      <td>3</td>\n",
       "      <td>8.561134</td>\n",
       "    </tr>\n",
       "    <tr>\n",
       "      <th>1</th>\n",
       "      <td>002be0ffdc997bd5c50703158b7c2491</td>\n",
       "      <td>4</td>\n",
       "      <td>10.784326</td>\n",
       "    </tr>\n",
       "    <tr>\n",
       "      <th>2</th>\n",
       "      <td>002be0ffdc997bd5c50703158b7c2491</td>\n",
       "      <td>5</td>\n",
       "      <td>12.354502</td>\n",
       "    </tr>\n",
       "    <tr>\n",
       "      <th>3</th>\n",
       "      <td>002be0ffdc997bd5c50703158b7c2491</td>\n",
       "      <td>6</td>\n",
       "      <td>10.577321</td>\n",
       "    </tr>\n",
       "    <tr>\n",
       "      <th>4</th>\n",
       "      <td>007f0389f9c7b03ef97098422f902e62</td>\n",
       "      <td>3</td>\n",
       "      <td>12.000977</td>\n",
       "    </tr>\n",
       "    <tr>\n",
       "      <th>...</th>\n",
       "      <td>...</td>\n",
       "      <td>...</td>\n",
       "      <td>...</td>\n",
       "    </tr>\n",
       "    <tr>\n",
       "      <th>2155</th>\n",
       "      <td>fff482c704d36a1afe8b8978d5486283</td>\n",
       "      <td>5</td>\n",
       "      <td>12.208262</td>\n",
       "    </tr>\n",
       "    <tr>\n",
       "      <th>2156</th>\n",
       "      <td>fffecccc49436c5389075b13209f0dfa</td>\n",
       "      <td>5</td>\n",
       "      <td>11.258107</td>\n",
       "    </tr>\n",
       "    <tr>\n",
       "      <th>2157</th>\n",
       "      <td>fffecccc49436c5389075b13209f0dfa</td>\n",
       "      <td>6</td>\n",
       "      <td>12.908441</td>\n",
       "    </tr>\n",
       "    <tr>\n",
       "      <th>2158</th>\n",
       "      <td>ffff51a71f2f185ec5e97d59dbcd7a78</td>\n",
       "      <td>5</td>\n",
       "      <td>12.491785</td>\n",
       "    </tr>\n",
       "    <tr>\n",
       "      <th>2159</th>\n",
       "      <td>ffff51a71f2f185ec5e97d59dbcd7a78</td>\n",
       "      <td>6</td>\n",
       "      <td>11.572804</td>\n",
       "    </tr>\n",
       "  </tbody>\n",
       "</table>\n",
       "<p>2160 rows × 3 columns</p>\n",
       "</div>"
      ],
      "text/plain": [
       "                             driver_id  month_  Life_time\n",
       "0     002be0ffdc997bd5c50703158b7c2491       3   8.561134\n",
       "1     002be0ffdc997bd5c50703158b7c2491       4  10.784326\n",
       "2     002be0ffdc997bd5c50703158b7c2491       5  12.354502\n",
       "3     002be0ffdc997bd5c50703158b7c2491       6  10.577321\n",
       "4     007f0389f9c7b03ef97098422f902e62       3  12.000977\n",
       "...                                ...     ...        ...\n",
       "2155  fff482c704d36a1afe8b8978d5486283       5  12.208262\n",
       "2156  fffecccc49436c5389075b13209f0dfa       5  11.258107\n",
       "2157  fffecccc49436c5389075b13209f0dfa       6  12.908441\n",
       "2158  ffff51a71f2f185ec5e97d59dbcd7a78       5  12.491785\n",
       "2159  ffff51a71f2f185ec5e97d59dbcd7a78       6  11.572804\n",
       "\n",
       "[2160 rows x 3 columns]"
      ]
     },
     "execution_count": 28,
     "metadata": {},
     "output_type": "execute_result"
    }
   ],
   "source": [
    "df[[\"driver_id\",'month_', 'Life_time']]"
   ]
  },
  {
   "cell_type": "code",
   "execution_count": 110,
   "metadata": {},
   "outputs": [
    {
     "data": {
      "text/plain": [
       "driver_id    ffff51a71f2f185ec5e97d59dbcd7a78\n",
       "Life_time                                   4\n",
       "dtype: object"
      ]
     },
     "execution_count": 110,
     "metadata": {},
     "output_type": "execute_result"
    }
   ],
   "source": [
    "pivoted_test.max()"
   ]
  },
  {
   "cell_type": "code",
   "execution_count": null,
   "metadata": {},
   "outputs": [],
   "source": []
  },
  {
   "cell_type": "code",
   "execution_count": null,
   "metadata": {},
   "outputs": [],
   "source": []
  },
  {
   "cell_type": "code",
   "execution_count": 5,
   "metadata": {},
   "outputs": [
    {
     "data": {
      "text/plain": [
       "6.822764447999999"
      ]
     },
     "execution_count": 5,
     "metadata": {},
     "output_type": "execute_result"
    }
   ],
   "source": [
    "pivoted['Life_time'].min()"
   ]
  },
  {
   "cell_type": "code",
   "execution_count": 6,
   "metadata": {},
   "outputs": [
    {
     "data": {
      "text/plain": [
       "26.67903695"
      ]
     },
     "execution_count": 6,
     "metadata": {},
     "output_type": "execute_result"
    }
   ],
   "source": [
    "pivoted['Life_time'].max()"
   ]
  },
  {
   "cell_type": "code",
   "execution_count": 7,
   "metadata": {},
   "outputs": [],
   "source": [
    "pivoted['Scaled_Lifetime'] = pivoted['Life_time']/pivoted['Life_time'].max()"
   ]
  },
  {
   "cell_type": "code",
   "execution_count": 8,
   "metadata": {},
   "outputs": [
    {
     "name": "stderr",
     "output_type": "stream",
     "text": [
      "C:\\Users\\albab.ahmad\\AppData\\Local\\Continuum\\anaconda3\\lib\\site-packages\\statsmodels\\tools\\_testing.py:19: FutureWarning: pandas.util.testing is deprecated. Use the functions in the public API at pandas.testing instead.\n",
      "  import pandas.util.testing as tm\n"
     ]
    },
    {
     "data": {
      "text/plain": [
       "<matplotlib.axes._subplots.AxesSubplot at 0x2a9627045c8>"
      ]
     },
     "execution_count": 8,
     "metadata": {},
     "output_type": "execute_result"
    }
   ],
   "source": [
    "import seaborn as sns\n",
    "sns.distplot(pivoted['Life_time'], hist = False, kde = True, \n",
    "                 kde_kws = {'shade': True, 'linewidth': 3})"
   ]
  },
  {
   "cell_type": "code",
   "execution_count": 9,
   "metadata": {},
   "outputs": [
    {
     "data": {
      "text/plain": [
       "<matplotlib.axes._subplots.AxesSubplot at 0x2a962f9f808>"
      ]
     },
     "execution_count": 9,
     "metadata": {},
     "output_type": "execute_result"
    },
    {
     "data": {
      "image/png": "[encoded data removed]",
      "text/plain": [
       "<Figure size 432x288 with 1 Axes>"
      ]
     },
     "metadata": {
      "needs_background": "light"
     },
     "output_type": "display_data"
    }
   ],
   "source": [
    "sns.distplot(pivoted['Scaled_Lifetime'], hist = False, kde = True,kde_kws = {'shade': True, 'linewidth': 3})"
   ]
  },
  {
   "cell_type": "code",
   "execution_count": 10,
   "metadata": {},
   "outputs": [
    {
     "data": {
      "text/plain": [
       "0.44795620407028075"
      ]
     },
     "execution_count": 10,
     "metadata": {},
     "output_type": "execute_result"
    }
   ],
   "source": [
    "#Question 1 sub.\n",
    "\n",
    "pivoted['Scaled_Lifetime'].mean()"
   ]
  },
  {
   "cell_type": "code",
   "execution_count": 13,
   "metadata": {},
   "outputs": [
    {
     "data": {
      "text/plain": [
       "4.938425925925926"
      ]
     },
     "execution_count": 13,
     "metadata": {},
     "output_type": "execute_result"
    }
   ],
   "source": [
    "df['month_'].mean()"
   ]
  },
  {
   "cell_type": "code",
   "execution_count": 14,
   "metadata": {},
   "outputs": [
    {
     "data": {
      "text/html": [
       "<div>\n",
       "<style scoped>\n",
       "    .dataframe tbody tr th:only-of-type {\n",
       "        vertical-align: middle;\n",
       "    }\n",
       "\n",
       "    .dataframe tbody tr th {\n",
       "        vertical-align: top;\n",
       "    }\n",
       "\n",
       "    .dataframe thead th {\n",
       "        text-align: right;\n",
       "    }\n",
       "</style>\n",
       "<table border=\"1\" class=\"dataframe\">\n",
       "  <thead>\n",
       "    <tr style=\"text-align: right;\">\n",
       "      <th></th>\n",
       "      <th>driver_id</th>\n",
       "      <th>month_</th>\n",
       "      <th>Life_time</th>\n",
       "    </tr>\n",
       "  </thead>\n",
       "  <tbody>\n",
       "    <tr>\n",
       "      <th>0</th>\n",
       "      <td>002be0ffdc997bd5c50703158b7c2491</td>\n",
       "      <td>3</td>\n",
       "      <td>8.561134</td>\n",
       "    </tr>\n",
       "    <tr>\n",
       "      <th>1</th>\n",
       "      <td>002be0ffdc997bd5c50703158b7c2491</td>\n",
       "      <td>4</td>\n",
       "      <td>10.784326</td>\n",
       "    </tr>\n",
       "    <tr>\n",
       "      <th>2</th>\n",
       "      <td>002be0ffdc997bd5c50703158b7c2491</td>\n",
       "      <td>5</td>\n",
       "      <td>12.354502</td>\n",
       "    </tr>\n",
       "    <tr>\n",
       "      <th>3</th>\n",
       "      <td>002be0ffdc997bd5c50703158b7c2491</td>\n",
       "      <td>6</td>\n",
       "      <td>10.577321</td>\n",
       "    </tr>\n",
       "    <tr>\n",
       "      <th>4</th>\n",
       "      <td>007f0389f9c7b03ef97098422f902e62</td>\n",
       "      <td>3</td>\n",
       "      <td>12.000977</td>\n",
       "    </tr>\n",
       "    <tr>\n",
       "      <th>5</th>\n",
       "      <td>007f0389f9c7b03ef97098422f902e62</td>\n",
       "      <td>4</td>\n",
       "      <td>8.949544</td>\n",
       "    </tr>\n",
       "    <tr>\n",
       "      <th>6</th>\n",
       "      <td>007f0389f9c7b03ef97098422f902e62</td>\n",
       "      <td>5</td>\n",
       "      <td>10.294364</td>\n",
       "    </tr>\n",
       "    <tr>\n",
       "      <th>7</th>\n",
       "      <td>007f0389f9c7b03ef97098422f902e62</td>\n",
       "      <td>6</td>\n",
       "      <td>7.682906</td>\n",
       "    </tr>\n",
       "    <tr>\n",
       "      <th>8</th>\n",
       "      <td>011e5c5dfc5c2c92501b8b24d47509bc</td>\n",
       "      <td>4</td>\n",
       "      <td>12.616981</td>\n",
       "    </tr>\n",
       "    <tr>\n",
       "      <th>9</th>\n",
       "      <td>011e5c5dfc5c2c92501b8b24d47509bc</td>\n",
       "      <td>5</td>\n",
       "      <td>9.305323</td>\n",
       "    </tr>\n",
       "  </tbody>\n",
       "</table>\n",
       "</div>"
      ],
      "text/plain": [
       "                          driver_id  month_  Life_time\n",
       "0  002be0ffdc997bd5c50703158b7c2491       3   8.561134\n",
       "1  002be0ffdc997bd5c50703158b7c2491       4  10.784326\n",
       "2  002be0ffdc997bd5c50703158b7c2491       5  12.354502\n",
       "3  002be0ffdc997bd5c50703158b7c2491       6  10.577321\n",
       "4  007f0389f9c7b03ef97098422f902e62       3  12.000977\n",
       "5  007f0389f9c7b03ef97098422f902e62       4   8.949544\n",
       "6  007f0389f9c7b03ef97098422f902e62       5  10.294364\n",
       "7  007f0389f9c7b03ef97098422f902e62       6   7.682906\n",
       "8  011e5c5dfc5c2c92501b8b24d47509bc       4  12.616981\n",
       "9  011e5c5dfc5c2c92501b8b24d47509bc       5   9.305323"
      ]
     },
     "execution_count": 14,
     "metadata": {},
     "output_type": "execute_result"
    }
   ],
   "source": [
    "df.head(10)"
   ]
  },
  {
   "cell_type": "code",
   "execution_count": 80,
   "metadata": {},
   "outputs": [
    {
     "data": {
      "text/html": [
       "<div>\n",
       "<style scoped>\n",
       "    .dataframe tbody tr th:only-of-type {\n",
       "        vertical-align: middle;\n",
       "    }\n",
       "\n",
       "    .dataframe tbody tr th {\n",
       "        vertical-align: top;\n",
       "    }\n",
       "\n",
       "    .dataframe thead th {\n",
       "        text-align: right;\n",
       "    }\n",
       "</style>\n",
       "<table border=\"1\" class=\"dataframe\">\n",
       "  <thead>\n",
       "    <tr style=\"text-align: right;\">\n",
       "      <th></th>\n",
       "      <th>driver_id</th>\n",
       "      <th>count_</th>\n",
       "    </tr>\n",
       "  </thead>\n",
       "  <tbody>\n",
       "    <tr>\n",
       "      <th>0</th>\n",
       "      <td>002be0ffdc997bd5c50703158b7c2491</td>\n",
       "      <td>4</td>\n",
       "    </tr>\n",
       "    <tr>\n",
       "      <th>1</th>\n",
       "      <td>007f0389f9c7b03ef97098422f902e62</td>\n",
       "      <td>4</td>\n",
       "    </tr>\n",
       "    <tr>\n",
       "      <th>2</th>\n",
       "      <td>011e5c5dfc5c2c92501b8b24d47509bc</td>\n",
       "      <td>3</td>\n",
       "    </tr>\n",
       "    <tr>\n",
       "      <th>3</th>\n",
       "      <td>0152a2f305e71d26cc964f8d4411add9</td>\n",
       "      <td>3</td>\n",
       "    </tr>\n",
       "    <tr>\n",
       "      <th>4</th>\n",
       "      <td>01674381af7edd264113d4e6ed55ecda</td>\n",
       "      <td>3</td>\n",
       "    </tr>\n",
       "  </tbody>\n",
       "</table>\n",
       "</div>"
      ],
      "text/plain": [
       "                          driver_id  count_\n",
       "0  002be0ffdc997bd5c50703158b7c2491       4\n",
       "1  007f0389f9c7b03ef97098422f902e62       4\n",
       "2  011e5c5dfc5c2c92501b8b24d47509bc       3\n",
       "3  0152a2f305e71d26cc964f8d4411add9       3\n",
       "4  01674381af7edd264113d4e6ed55ecda       3"
      ]
     },
     "execution_count": 80,
     "metadata": {},
     "output_type": "execute_result"
    }
   ],
   "source": [
    "df_new = pd.read_csv('sheet_new.csv', sep = ',')\n",
    "df_new.head()"
   ]
  },
  {
   "cell_type": "code",
   "execution_count": 16,
   "metadata": {},
   "outputs": [
    {
     "data": {
      "text/plain": [
       "3.0"
      ]
     },
     "execution_count": 16,
     "metadata": {},
     "output_type": "execute_result"
    }
   ],
   "source": [
    "df_new['count_'].median()"
   ]
  }
 ],
 "metadata": {
  "kernelspec": {
   "display_name": "Python 3",
   "language": "python",
   "name": "python3"
  },
  "language_info": {
   "codemirror_mode": {
    "name": "ipython",
    "version": 3
   },
   "file_extension": ".py",
   "mimetype": "text/x-python",
   "name": "python",
   "nbconvert_exporter": "python",
   "pygments_lexer": "ipython3",
   "version": "3.7.4"
  }
 },
 "nbformat": 4,
 "nbformat_minor": 2
}
