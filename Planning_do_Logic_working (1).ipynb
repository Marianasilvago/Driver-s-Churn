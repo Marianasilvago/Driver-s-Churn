{
 "cells": [
  {
   "cell_type": "code",
   "execution_count": 1,
   "metadata": {},
   "outputs": [],
   "source": [
    "import pandas as pd\n",
    "import numpy as np\n",
    "pd.set_option('max_columns',500)\n",
    "pd.set_option('max_rows',500)"
   ]
  },
  {
   "cell_type": "code",
   "execution_count": 39,
   "metadata": {},
   "outputs": [],
   "source": [
    "df=pd.read_excel('PLanning_Documents Zubair.xlsx')"
   ]
  },
  {
   "cell_type": "code",
   "execution_count": 40,
   "metadata": {},
   "outputs": [
    {
     "data": {
      "text/plain": [
       "(85753, 40)"
      ]
     },
     "execution_count": 40,
     "metadata": {},
     "output_type": "execute_result"
    }
   ],
   "source": [
    "df.shape"
   ]
  },
  {
   "cell_type": "code",
   "execution_count": 41,
   "metadata": {},
   "outputs": [
    {
     "data": {
      "text/plain": [
       "Filename                                                             0\n",
       "FILE_NAME_                                                           0\n",
       "Table_Number_STRING                                                  0\n",
       "ROW_NUM_TBLE                                                         0\n",
       "Standardized_Year                                                    0\n",
       "Standardized_Month                                                   0\n",
       "Standardized_Filename                                                0\n",
       "Name_of_Procuring_Agency                                          2006\n",
       "Standardized_Name_of_Procuring_Agency                              530\n",
       "Procurement_Description                                           5512\n",
       "Procurement_Description#1                                            0\n",
       "Estimated_Cost                                                   32232\n",
       "Standardized_Estimated_cost_Currency                                 0\n",
       "Standardized_Estimated_cost_Value                                    0\n",
       "Standardized_Estimated_cost_Rate                                     4\n",
       "Standardized_Estimated_cost_Derived_PKR                            565\n",
       "Procurement_method                                               36792\n",
       "Intermediate_column_Procurement_method                               4\n",
       "Standardized_Procurement_method                                      5\n",
       "Tentative_date_of_Procurement_Notice_Publication                 39173\n",
       "Standardized_Tentative_date_of_Procurement_Notice_Publication        0\n",
       "Tentative_date_of_Award_of_Contract                              40673\n",
       "Standardized_Tentative_date_of_Award_of_Contract                 48645\n",
       "Tentative_date_of_Completion                                     40463\n",
       "Standardized_Tentative_date_of_Completion                        48296\n",
       "Planning_Year                                                     2648\n",
       "Standardized_Planning_Year                                           0\n",
       "qa_status                                                            0\n",
       "inUse                                                                0\n",
       "user_id                                                              0\n",
       "created_at                                                           0\n",
       "updated_at                                                           0\n",
       "TABLE_NUMBER                                                         0\n",
       "ROW_NUM_FILE                                                         0\n",
       "Standardized_Column_Value_TEMP                                   27367\n",
       "PREVIOUS_TABLE_NUMBER                                             1520\n",
       "RESET_INDEX                                                          0\n",
       "TABLE_NUMBER_RESET_INDEX                                             0\n",
       "Standardized_Column_Value_TEMP_v2                                75502\n",
       "STANDARDIDZED_COLUMN_NAME_V2                                     27367\n",
       "dtype: int64"
      ]
     },
     "execution_count": 41,
     "metadata": {},
     "output_type": "execute_result"
    }
   ],
   "source": [
    "df.isnull().sum()"
   ]
  },
  {
   "cell_type": "markdown",
   "metadata": {},
   "source": [
    "### Patterns Procurement Method"
   ]
  },
  {
   "cell_type": "code",
   "execution_count": 42,
   "metadata": {},
   "outputs": [
    {
     "data": {
      "text/plain": [
       "array(['-do-', 'do', '--do--', '--do-.', '--do-', 'do-', '-- do --',\n",
       "       '-- do -', '- do-', '-do:', '-do+', 'Pre-qualified vendors',\n",
       "       '_do_ do', '_do_', 'do_', 'do_ do', 'edo-', '- do -', 'do -',\n",
       "       'ndo-', 'do.', 'e -do-',\n",
       "       'Single Stage Single Envelop Rule 36(a)-do-', '-do- -do-',\n",
       "       'Contract Renewal or Competitive Bidding based on performance of vendor',\n",
       "       '--do---', '---do---', '.....do..... do', '.....do.....',\n",
       "       '.....do....', 'wudo-.', 'e-do-.',\n",
       "       'From Authorized/sole dealer or vendors', 'From Atuhrized/vendors',\n",
       "       '(Vendorized Items)', 'Tendor and Direct contract to',\n",
       "       'Tendor and direct contact to registered firm',\n",
       "       'Tendor and Direct contract to registered firms'], dtype=object)"
      ]
     },
     "execution_count": 42,
     "metadata": {},
     "output_type": "execute_result"
    }
   ],
   "source": [
    "df[(~df['Procurement_method'].isnull())&(df['Procurement_method'].str.contains('do'))]['Procurement_method'].unique()"
   ]
  },
  {
   "cell_type": "markdown",
   "metadata": {},
   "source": [
    "### Patterns Date of Notice"
   ]
  },
  {
   "cell_type": "code",
   "execution_count": 43,
   "metadata": {},
   "outputs": [
    {
     "data": {
      "text/plain": [
       "array(['-do-', 'do', '--do--', '--do-', '--do-.', '-do:', '- do -',\n",
       "       'do -', '+do-', 'do-', 'wdo-', 'wdow', 'do.', '-do- -',\n",
       "       'After approval of indents/ITs uploadedon PPRA by competent authority',\n",
       "       '-do- - -', '-do- -do-', '---do---', '-do.-', 'Already done',\n",
       "       'do_', '_do_', '-do--'], dtype=object)"
      ]
     },
     "execution_count": 43,
     "metadata": {},
     "output_type": "execute_result"
    }
   ],
   "source": [
    "df[(~df['Tentative_date_of_Procurement_Notice_Publication'].isnull())&(df['Tentative_date_of_Procurement_Notice_Publication'].str.contains('do'))]['Tentative_date_of_Procurement_Notice_Publication'].unique()"
   ]
  },
  {
   "cell_type": "markdown",
   "metadata": {},
   "source": [
    "### Patterns Date of Award"
   ]
  },
  {
   "cell_type": "code",
   "execution_count": 44,
   "metadata": {},
   "outputs": [
    {
     "data": {
      "text/plain": [
       "array(['-do-', 'do', '--do--', 'do-', '-do:', '- do -', 'wdo-', 'edo-',\n",
       "       'mdow', '+do-', 'do:', '--do-', '-do- - -', 'do_', '_do_', 'do.',\n",
       "       'As per terms Conditions of tender document.',\n",
       "       'As per terms Conditions tender document.',\n",
       "       'per terms Conditions tender document', '- do-'], dtype=object)"
      ]
     },
     "execution_count": 44,
     "metadata": {},
     "output_type": "execute_result"
    }
   ],
   "source": [
    "df[(~df['Tentative_date_of_Award_of_Contract'].isnull())&(df['Tentative_date_of_Award_of_Contract'].str.contains('do'))]['Tentative_date_of_Award_of_Contract'].unique()"
   ]
  },
  {
   "cell_type": "markdown",
   "metadata": {},
   "source": [
    "### Patterns Date of Completion"
   ]
  },
  {
   "cell_type": "code",
   "execution_count": 45,
   "metadata": {},
   "outputs": [
    {
     "data": {
      "text/plain": [
       "array(['-do-', 'do', '--do--', '--do-', 'do-', '-do:',\n",
       "       'As per terms and conditions of tender documents', '- do -',\n",
       "       'wdo-', 'dow', 'dor', 'do.', '-e-do-m-', '---do---',\n",
       "       'On going (Personlaization of cards will be done on monthly basis)',\n",
       "       '-do- -do-', 'As per terms & Conditions of tender document',\n",
       "       'As per terms & Conditions of tender document.', '-do-.', '-do- -',\n",
       "       'do_', '_do_', '_do,',\n",
       "       'As & of per terms Conditions tender document', '- do-'],\n",
       "      dtype=object)"
      ]
     },
     "execution_count": 45,
     "metadata": {},
     "output_type": "execute_result"
    }
   ],
   "source": [
    "df[(~df['Tentative_date_of_Completion'].isnull())&(df['Tentative_date_of_Completion'].str.contains('do'))]['Tentative_date_of_Completion'].unique()"
   ]
  },
  {
   "cell_type": "markdown",
   "metadata": {},
   "source": [
    "### Making do list"
   ]
  },
  {
   "cell_type": "code",
   "execution_count": 111,
   "metadata": {},
   "outputs": [],
   "source": [
    "do_list=['-do-', 'do', '--do--', '--do-.', '--do-', 'do-', '-- do --','-- do -', '- do-', '-do:', '-do+','-dO-',\n",
    "       '_do_ do', '_do_', 'do_', 'do_ do', 'edo-', '- do -', 'do -','ndo-', 'do.', 'e -do-','-do- -do-',\n",
    "        '--do---', '---do---', '.....do..... do', '.....do.....',\n",
    "       '.....do....', 'wudo-.', 'e-do-.','-do-', 'do', '--do--', '--do-', '--do-.', '-do:', '- do -',\n",
    "       'do -', '+do-', 'do-', 'wdo-', 'wdow', 'do.', '-do- -','-do- - -', '-do- -do-', '---do---', '-do.-',\n",
    "       'do_', '_do_', '-do--','-do-', 'do', '--do--', 'do-', '-do:', '- do -', 'wdo-', 'edo-',\n",
    "       'mdow', '+do-', 'do:', '--do-', '-do- - -', 'do_', '_do_', 'do.','- do-','-do-', 'do', '--do--', '--do-', 'do-', '-do:','- do -',\n",
    "       'wdo-', 'dow', 'dor', 'do.', '-e-do-m-', '---do---','-do- -do-', '-do-.', '-do- -','do_', '_do_', '_do,','- do-']\n",
    "do_list=list(set(do_list))"
   ]
  },
  {
   "cell_type": "markdown",
   "metadata": {},
   "source": [
    "### Making Flags"
   ]
  },
  {
   "cell_type": "code",
   "execution_count": 112,
   "metadata": {},
   "outputs": [],
   "source": [
    "df['PM_do_flag']=((~df['Procurement_method'].isnull())&(df['Procurement_method'].isin(do_list))).astype(int)"
   ]
  },
  {
   "cell_type": "code",
   "execution_count": 113,
   "metadata": {},
   "outputs": [],
   "source": [
    "df['TDON_do_flag']=((~df['Tentative_date_of_Procurement_Notice_Publication'].isnull())&(df['Tentative_date_of_Procurement_Notice_Publication'].isin(do_list))).astype(int)"
   ]
  },
  {
   "cell_type": "code",
   "execution_count": 114,
   "metadata": {},
   "outputs": [],
   "source": [
    "df['TDOA_do_flag']=((~df['Tentative_date_of_Award_of_Contract'].isnull())&(df['Tentative_date_of_Award_of_Contract'].isin(do_list))).astype(int)"
   ]
  },
  {
   "cell_type": "code",
   "execution_count": 115,
   "metadata": {},
   "outputs": [],
   "source": [
    "df['TDOC_do_flag']=((~df['Tentative_date_of_Completion'].isnull())&(df['Tentative_date_of_Completion'].isin(do_list))).astype(int)"
   ]
  },
  {
   "cell_type": "markdown",
   "metadata": {},
   "source": [
    "## Final Procurement Method Logic"
   ]
  },
  {
   "cell_type": "code",
   "execution_count": 116,
   "metadata": {},
   "outputs": [],
   "source": [
    "do_pm_files=list(df[df['PM_do_flag']==1]['Filename'].unique())"
   ]
  },
  {
   "cell_type": "code",
   "execution_count": 117,
   "metadata": {},
   "outputs": [],
   "source": [
    "df_pm=df[df['Filename'].isin(do_pm_files)]"
   ]
  },
  {
   "cell_type": "code",
   "execution_count": 118,
   "metadata": {},
   "outputs": [],
   "source": [
    "df_pm=df_pm[['Filename','ROW_NUM_TBLE','Procurement_method','PM_do_flag']]"
   ]
  },
  {
   "cell_type": "code",
   "execution_count": 119,
   "metadata": {},
   "outputs": [],
   "source": [
    "df_pm['Z_Procurement_method']=df_pm['Procurement_method']\n",
    "df_pm['Z_Procurement_method'].replace(do_list,np.NaN,inplace=True)"
   ]
  },
  {
   "cell_type": "code",
   "execution_count": 120,
   "metadata": {},
   "outputs": [],
   "source": [
    "df_pm=df_pm.groupby('Filename').ffill()"
   ]
  },
  {
   "cell_type": "code",
   "execution_count": 121,
   "metadata": {},
   "outputs": [],
   "source": [
    "df_pm.to_excel('Proc_Method_Clean_Only_do.xlsx')"
   ]
  },
  {
   "cell_type": "markdown",
   "metadata": {},
   "source": [
    "## Final Date of Notice Logic"
   ]
  },
  {
   "cell_type": "code",
   "execution_count": 122,
   "metadata": {},
   "outputs": [],
   "source": [
    "do_tdon_files=list(df[df['TDON_do_flag']==1]['Filename'].unique())"
   ]
  },
  {
   "cell_type": "code",
   "execution_count": 123,
   "metadata": {},
   "outputs": [],
   "source": [
    "df_tdon=df[df['Filename'].isin(do_tdon_files)]"
   ]
  },
  {
   "cell_type": "code",
   "execution_count": 124,
   "metadata": {},
   "outputs": [],
   "source": [
    "df_tdon=df_tdon[['Filename','ROW_NUM_TBLE','Tentative_date_of_Procurement_Notice_Publication','TDON_do_flag']]"
   ]
  },
  {
   "cell_type": "code",
   "execution_count": 125,
   "metadata": {},
   "outputs": [],
   "source": [
    "df_tdon['Z_Tentative_date_of_Procurement_Notice_Publication']=df_tdon['Tentative_date_of_Procurement_Notice_Publication']\n",
    "df_tdon['Z_Tentative_date_of_Procurement_Notice_Publication'].replace(do_list,np.NaN,inplace=True)"
   ]
  },
  {
   "cell_type": "code",
   "execution_count": 128,
   "metadata": {},
   "outputs": [],
   "source": [
    "df_tdon=df_tdon.groupby('Filename').ffill()"
   ]
  },
  {
   "cell_type": "code",
   "execution_count": 129,
   "metadata": {},
   "outputs": [],
   "source": [
    "df_tdon.to_excel('Date_of_Notice_Clean_Only_do.xlsx')"
   ]
  },
  {
   "cell_type": "markdown",
   "metadata": {},
   "source": [
    "## Final Date of Award Logic"
   ]
  },
  {
   "cell_type": "code",
   "execution_count": 131,
   "metadata": {},
   "outputs": [],
   "source": [
    "do_tdoa_files=list(df[df['TDOA_do_flag']==1]['Filename'].unique())"
   ]
  },
  {
   "cell_type": "code",
   "execution_count": 132,
   "metadata": {},
   "outputs": [],
   "source": [
    "df_tdoa=df[df['Filename'].isin(do_tdoa_files)]"
   ]
  },
  {
   "cell_type": "code",
   "execution_count": 133,
   "metadata": {},
   "outputs": [],
   "source": [
    "df_tdoa=df_tdoa[['Filename','ROW_NUM_TBLE','Tentative_date_of_Award_of_Contract','TDOA_do_flag']]"
   ]
  },
  {
   "cell_type": "code",
   "execution_count": 135,
   "metadata": {},
   "outputs": [],
   "source": [
    "df_tdoa['Z_Tentative_date_of_Award_of_Contract']=df_tdoa['Tentative_date_of_Award_of_Contract']\n",
    "df_tdoa['Z_Tentative_date_of_Award_of_Contract'].replace(do_list,np.NaN,inplace=True)"
   ]
  },
  {
   "cell_type": "code",
   "execution_count": 137,
   "metadata": {},
   "outputs": [],
   "source": [
    "df_tdoa=df_tdoa.groupby('Filename').ffill()"
   ]
  },
  {
   "cell_type": "code",
   "execution_count": 138,
   "metadata": {},
   "outputs": [],
   "source": [
    "df_tdoa.to_excel('Date_of_Award_Clean_Only_do.xlsx')"
   ]
  },
  {
   "cell_type": "markdown",
   "metadata": {},
   "source": [
    "## Final Date of Completion Logic"
   ]
  },
  {
   "cell_type": "code",
   "execution_count": 139,
   "metadata": {},
   "outputs": [],
   "source": [
    "do_tdoc_files=list(df[df['TDOC_do_flag']==1]['Filename'].unique())"
   ]
  },
  {
   "cell_type": "code",
   "execution_count": 140,
   "metadata": {},
   "outputs": [],
   "source": [
    "df_tdoc=df[df['Filename'].isin(do_tdoc_files)]"
   ]
  },
  {
   "cell_type": "code",
   "execution_count": 141,
   "metadata": {},
   "outputs": [],
   "source": [
    "df_tdoc=df_tdoc[['Filename','ROW_NUM_TBLE','Tentative_date_of_Completion','TDOC_do_flag']]"
   ]
  },
  {
   "cell_type": "code",
   "execution_count": 142,
   "metadata": {},
   "outputs": [],
   "source": [
    "df_tdoc['Z_Tentative_date_of_Completion']=df_tdoc['Tentative_date_of_Completion']\n",
    "df_tdoc['Z_Tentative_date_of_Completion'].replace(do_list,np.NaN,inplace=True)"
   ]
  },
  {
   "cell_type": "code",
   "execution_count": 144,
   "metadata": {},
   "outputs": [],
   "source": [
    "df_tdoc=df_tdoc.groupby('Filename').ffill()"
   ]
  },
  {
   "cell_type": "code",
   "execution_count": 145,
   "metadata": {},
   "outputs": [],
   "source": [
    "df_tdoc.to_excel('Date_of_Completion_Clean_Only_do.xlsx')"
   ]
  },
  {
   "cell_type": "code",
   "execution_count": null,
   "metadata": {},
   "outputs": [],
   "source": []
  }
 ],
 "metadata": {
  "kernelspec": {
   "display_name": "Python 3",
   "language": "python",
   "name": "python3"
  },
  "language_info": {
   "codemirror_mode": {
    "name": "ipython",
    "version": 3
   },
   "file_extension": ".py",
   "mimetype": "text/x-python",
   "name": "python",
   "nbconvert_exporter": "python",
   "pygments_lexer": "ipython3",
   "version": "3.7.3"
  }
 },
 "nbformat": 4,
 "nbformat_minor": 2
}
